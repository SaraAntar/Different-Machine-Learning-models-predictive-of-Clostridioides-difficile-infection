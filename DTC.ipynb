{
  "nbformat": 4,
  "nbformat_minor": 0,
  "metadata": {
    "colab": {
      "provenance": []
    },
    "kernelspec": {
      "name": "python3",
      "display_name": "Python 3"
    },
    "language_info": {
      "name": "python"
    }
  },
  "cells": [
    {
      "cell_type": "code",
      "source": [
        "import pandas as pd\n",
        "sheet1 = pd.read_excel('Class.xlsx')"
      ],
      "metadata": {
        "id": "HvlHkvODf-lR"
      },
      "execution_count": null,
      "outputs": []
    },
    {
      "cell_type": "code",
      "source": [
        "from scikeras.wrappers import KerasClassifier, KerasRegressor"
      ],
      "metadata": {
        "id": "y4ZkSUn7ZzxW"
      },
      "execution_count": null,
      "outputs": []
    },
    {
      "cell_type": "code",
      "source": [
        "sheet1.shape"
      ],
      "metadata": {
        "colab": {
          "base_uri": "https://localhost:8080/"
        },
        "id": "132HhXN0gUdY",
        "outputId": "b15aaeeb-f0cf-4705-97ec-ab41a15fec04"
      },
      "execution_count": null,
      "outputs": [
        {
          "output_type": "execute_result",
          "data": {
            "text/plain": [
              "(747, 5917)"
            ]
          },
          "metadata": {},
          "execution_count": 71
        }
      ]
    },
    {
      "cell_type": "code",
      "source": [
        "sheet1.head()"
      ],
      "metadata": {
        "colab": {
          "base_uri": "https://localhost:8080/",
          "height": 255
        },
        "id": "9TpKdXL4haat",
        "outputId": "ea30970a-0970-45fd-9afe-f42d0a55a6ca"
      },
      "execution_count": null,
      "outputs": [
        {
          "output_type": "execute_result",
          "data": {
            "text/plain": [
              "   Clostridium_XI_Otu12  Klebsiella_Otu4  Staphylococcus_Otu3  \\\n",
              "0              0.000000         0.000067                0.000   \n",
              "1              0.000000         0.000000                0.000   \n",
              "2              0.000067         0.000000                0.000   \n",
              "3              0.000000         0.000000                0.000   \n",
              "4              0.000000         0.000000                0.001   \n",
              "\n",
              "   Escherichia/Shigella_Otu2  Enterococcus_Otu1  Streptococcus_Otu8  \\\n",
              "0                   0.027667                0.0            0.001000   \n",
              "1                   0.000000                0.0            0.000000   \n",
              "2                   0.001000                0.0            0.000067   \n",
              "3                   0.000000                0.0            0.000133   \n",
              "4                   0.000067                0.0            0.000000   \n",
              "\n",
              "   Sphingomonas_Otu5  Finegoldia_Otu9  Ruminococcaceae_unclassified_Otu11  \\\n",
              "0           0.000067         0.061267                            0.000000   \n",
              "1           0.000933         0.000200                            0.000000   \n",
              "2           0.000000         0.024000                            0.000133   \n",
              "3           0.000000         0.047400                            0.000067   \n",
              "4           0.000000         0.036467                            0.000000   \n",
              "\n",
              "   Prevotella_Otu7  ...  Finegoldia_Otu20269  Finegoldia_Otu20304  \\\n",
              "0         0.016400  ...                  0.0                  0.0   \n",
              "1         0.000600  ...                  0.0                  0.0   \n",
              "2         0.126333  ...                  0.0                  0.0   \n",
              "3         0.001333  ...                  0.0                  0.0   \n",
              "4         0.000067  ...                  0.0                  0.0   \n",
              "\n",
              "   Finegoldia_Otu20307  Finegoldia_Otu20311  Finegoldia_Otu20314  \\\n",
              "0                  0.0                  0.0                  0.0   \n",
              "1                  0.0                  0.0                  0.0   \n",
              "2                  0.0                  0.0                  0.0   \n",
              "3                  0.0                  0.0                  0.0   \n",
              "4                  0.0                  0.0                  0.0   \n",
              "\n",
              "   Acinetobacter_Otu20318  Finegoldia_Otu20320  Country  Gender  Class  \n",
              "0                     0.0                  0.0        4       1      2  \n",
              "1                     0.0                  0.0        4       1      2  \n",
              "2                     0.0                  0.0        1       1      1  \n",
              "3                     0.0                  0.0        2       0      2  \n",
              "4                     0.0                  0.0        4       1      2  \n",
              "\n",
              "[5 rows x 5917 columns]"
            ],
            "text/html": [
              "\n",
              "  <div id=\"df-4c1e169b-46da-4d59-9597-c4e907e1c46f\" class=\"colab-df-container\">\n",
              "    <div>\n",
              "<style scoped>\n",
              "    .dataframe tbody tr th:only-of-type {\n",
              "        vertical-align: middle;\n",
              "    }\n",
              "\n",
              "    .dataframe tbody tr th {\n",
              "        vertical-align: top;\n",
              "    }\n",
              "\n",
              "    .dataframe thead th {\n",
              "        text-align: right;\n",
              "    }\n",
              "</style>\n",
              "<table border=\"1\" class=\"dataframe\">\n",
              "  <thead>\n",
              "    <tr style=\"text-align: right;\">\n",
              "      <th></th>\n",
              "      <th>Clostridium_XI_Otu12</th>\n",
              "      <th>Klebsiella_Otu4</th>\n",
              "      <th>Staphylococcus_Otu3</th>\n",
              "      <th>Escherichia/Shigella_Otu2</th>\n",
              "      <th>Enterococcus_Otu1</th>\n",
              "      <th>Streptococcus_Otu8</th>\n",
              "      <th>Sphingomonas_Otu5</th>\n",
              "      <th>Finegoldia_Otu9</th>\n",
              "      <th>Ruminococcaceae_unclassified_Otu11</th>\n",
              "      <th>Prevotella_Otu7</th>\n",
              "      <th>...</th>\n",
              "      <th>Finegoldia_Otu20269</th>\n",
              "      <th>Finegoldia_Otu20304</th>\n",
              "      <th>Finegoldia_Otu20307</th>\n",
              "      <th>Finegoldia_Otu20311</th>\n",
              "      <th>Finegoldia_Otu20314</th>\n",
              "      <th>Acinetobacter_Otu20318</th>\n",
              "      <th>Finegoldia_Otu20320</th>\n",
              "      <th>Country</th>\n",
              "      <th>Gender</th>\n",
              "      <th>Class</th>\n",
              "    </tr>\n",
              "  </thead>\n",
              "  <tbody>\n",
              "    <tr>\n",
              "      <th>0</th>\n",
              "      <td>0.000000</td>\n",
              "      <td>0.000067</td>\n",
              "      <td>0.000</td>\n",
              "      <td>0.027667</td>\n",
              "      <td>0.0</td>\n",
              "      <td>0.001000</td>\n",
              "      <td>0.000067</td>\n",
              "      <td>0.061267</td>\n",
              "      <td>0.000000</td>\n",
              "      <td>0.016400</td>\n",
              "      <td>...</td>\n",
              "      <td>0.0</td>\n",
              "      <td>0.0</td>\n",
              "      <td>0.0</td>\n",
              "      <td>0.0</td>\n",
              "      <td>0.0</td>\n",
              "      <td>0.0</td>\n",
              "      <td>0.0</td>\n",
              "      <td>4</td>\n",
              "      <td>1</td>\n",
              "      <td>2</td>\n",
              "    </tr>\n",
              "    <tr>\n",
              "      <th>1</th>\n",
              "      <td>0.000000</td>\n",
              "      <td>0.000000</td>\n",
              "      <td>0.000</td>\n",
              "      <td>0.000000</td>\n",
              "      <td>0.0</td>\n",
              "      <td>0.000000</td>\n",
              "      <td>0.000933</td>\n",
              "      <td>0.000200</td>\n",
              "      <td>0.000000</td>\n",
              "      <td>0.000600</td>\n",
              "      <td>...</td>\n",
              "      <td>0.0</td>\n",
              "      <td>0.0</td>\n",
              "      <td>0.0</td>\n",
              "      <td>0.0</td>\n",
              "      <td>0.0</td>\n",
              "      <td>0.0</td>\n",
              "      <td>0.0</td>\n",
              "      <td>4</td>\n",
              "      <td>1</td>\n",
              "      <td>2</td>\n",
              "    </tr>\n",
              "    <tr>\n",
              "      <th>2</th>\n",
              "      <td>0.000067</td>\n",
              "      <td>0.000000</td>\n",
              "      <td>0.000</td>\n",
              "      <td>0.001000</td>\n",
              "      <td>0.0</td>\n",
              "      <td>0.000067</td>\n",
              "      <td>0.000000</td>\n",
              "      <td>0.024000</td>\n",
              "      <td>0.000133</td>\n",
              "      <td>0.126333</td>\n",
              "      <td>...</td>\n",
              "      <td>0.0</td>\n",
              "      <td>0.0</td>\n",
              "      <td>0.0</td>\n",
              "      <td>0.0</td>\n",
              "      <td>0.0</td>\n",
              "      <td>0.0</td>\n",
              "      <td>0.0</td>\n",
              "      <td>1</td>\n",
              "      <td>1</td>\n",
              "      <td>1</td>\n",
              "    </tr>\n",
              "    <tr>\n",
              "      <th>3</th>\n",
              "      <td>0.000000</td>\n",
              "      <td>0.000000</td>\n",
              "      <td>0.000</td>\n",
              "      <td>0.000000</td>\n",
              "      <td>0.0</td>\n",
              "      <td>0.000133</td>\n",
              "      <td>0.000000</td>\n",
              "      <td>0.047400</td>\n",
              "      <td>0.000067</td>\n",
              "      <td>0.001333</td>\n",
              "      <td>...</td>\n",
              "      <td>0.0</td>\n",
              "      <td>0.0</td>\n",
              "      <td>0.0</td>\n",
              "      <td>0.0</td>\n",
              "      <td>0.0</td>\n",
              "      <td>0.0</td>\n",
              "      <td>0.0</td>\n",
              "      <td>2</td>\n",
              "      <td>0</td>\n",
              "      <td>2</td>\n",
              "    </tr>\n",
              "    <tr>\n",
              "      <th>4</th>\n",
              "      <td>0.000000</td>\n",
              "      <td>0.000000</td>\n",
              "      <td>0.001</td>\n",
              "      <td>0.000067</td>\n",
              "      <td>0.0</td>\n",
              "      <td>0.000000</td>\n",
              "      <td>0.000000</td>\n",
              "      <td>0.036467</td>\n",
              "      <td>0.000000</td>\n",
              "      <td>0.000067</td>\n",
              "      <td>...</td>\n",
              "      <td>0.0</td>\n",
              "      <td>0.0</td>\n",
              "      <td>0.0</td>\n",
              "      <td>0.0</td>\n",
              "      <td>0.0</td>\n",
              "      <td>0.0</td>\n",
              "      <td>0.0</td>\n",
              "      <td>4</td>\n",
              "      <td>1</td>\n",
              "      <td>2</td>\n",
              "    </tr>\n",
              "  </tbody>\n",
              "</table>\n",
              "<p>5 rows × 5917 columns</p>\n",
              "</div>\n",
              "    <div class=\"colab-df-buttons\">\n",
              "\n",
              "  <div class=\"colab-df-container\">\n",
              "    <button class=\"colab-df-convert\" onclick=\"convertToInteractive('df-4c1e169b-46da-4d59-9597-c4e907e1c46f')\"\n",
              "            title=\"Convert this dataframe to an interactive table.\"\n",
              "            style=\"display:none;\">\n",
              "\n",
              "  <svg xmlns=\"http://www.w3.org/2000/svg\" height=\"24px\" viewBox=\"0 -960 960 960\">\n",
              "    <path d=\"M120-120v-720h720v720H120Zm60-500h600v-160H180v160Zm220 220h160v-160H400v160Zm0 220h160v-160H400v160ZM180-400h160v-160H180v160Zm440 0h160v-160H620v160ZM180-180h160v-160H180v160Zm440 0h160v-160H620v160Z\"/>\n",
              "  </svg>\n",
              "    </button>\n",
              "\n",
              "  <style>\n",
              "    .colab-df-container {\n",
              "      display:flex;\n",
              "      gap: 12px;\n",
              "    }\n",
              "\n",
              "    .colab-df-convert {\n",
              "      background-color: #E8F0FE;\n",
              "      border: none;\n",
              "      border-radius: 50%;\n",
              "      cursor: pointer;\n",
              "      display: none;\n",
              "      fill: #1967D2;\n",
              "      height: 32px;\n",
              "      padding: 0 0 0 0;\n",
              "      width: 32px;\n",
              "    }\n",
              "\n",
              "    .colab-df-convert:hover {\n",
              "      background-color: #E2EBFA;\n",
              "      box-shadow: 0px 1px 2px rgba(60, 64, 67, 0.3), 0px 1px 3px 1px rgba(60, 64, 67, 0.15);\n",
              "      fill: #174EA6;\n",
              "    }\n",
              "\n",
              "    .colab-df-buttons div {\n",
              "      margin-bottom: 4px;\n",
              "    }\n",
              "\n",
              "    [theme=dark] .colab-df-convert {\n",
              "      background-color: #3B4455;\n",
              "      fill: #D2E3FC;\n",
              "    }\n",
              "\n",
              "    [theme=dark] .colab-df-convert:hover {\n",
              "      background-color: #434B5C;\n",
              "      box-shadow: 0px 1px 3px 1px rgba(0, 0, 0, 0.15);\n",
              "      filter: drop-shadow(0px 1px 2px rgba(0, 0, 0, 0.3));\n",
              "      fill: #FFFFFF;\n",
              "    }\n",
              "  </style>\n",
              "\n",
              "    <script>\n",
              "      const buttonEl =\n",
              "        document.querySelector('#df-4c1e169b-46da-4d59-9597-c4e907e1c46f button.colab-df-convert');\n",
              "      buttonEl.style.display =\n",
              "        google.colab.kernel.accessAllowed ? 'block' : 'none';\n",
              "\n",
              "      async function convertToInteractive(key) {\n",
              "        const element = document.querySelector('#df-4c1e169b-46da-4d59-9597-c4e907e1c46f');\n",
              "        const dataTable =\n",
              "          await google.colab.kernel.invokeFunction('convertToInteractive',\n",
              "                                                    [key], {});\n",
              "        if (!dataTable) return;\n",
              "\n",
              "        const docLinkHtml = 'Like what you see? Visit the ' +\n",
              "          '<a target=\"_blank\" href=https://colab.research.google.com/notebooks/data_table.ipynb>data table notebook</a>'\n",
              "          + ' to learn more about interactive tables.';\n",
              "        element.innerHTML = '';\n",
              "        dataTable['output_type'] = 'display_data';\n",
              "        await google.colab.output.renderOutput(dataTable, element);\n",
              "        const docLink = document.createElement('div');\n",
              "        docLink.innerHTML = docLinkHtml;\n",
              "        element.appendChild(docLink);\n",
              "      }\n",
              "    </script>\n",
              "  </div>\n",
              "\n",
              "\n",
              "<div id=\"df-f1efc9b9-0a16-4c28-a101-6afaf6431797\">\n",
              "  <button class=\"colab-df-quickchart\" onclick=\"quickchart('df-f1efc9b9-0a16-4c28-a101-6afaf6431797')\"\n",
              "            title=\"Suggest charts\"\n",
              "            style=\"display:none;\">\n",
              "\n",
              "<svg xmlns=\"http://www.w3.org/2000/svg\" height=\"24px\"viewBox=\"0 0 24 24\"\n",
              "     width=\"24px\">\n",
              "    <g>\n",
              "        <path d=\"M19 3H5c-1.1 0-2 .9-2 2v14c0 1.1.9 2 2 2h14c1.1 0 2-.9 2-2V5c0-1.1-.9-2-2-2zM9 17H7v-7h2v7zm4 0h-2V7h2v10zm4 0h-2v-4h2v4z\"/>\n",
              "    </g>\n",
              "</svg>\n",
              "  </button>\n",
              "\n",
              "<style>\n",
              "  .colab-df-quickchart {\n",
              "      --bg-color: #E8F0FE;\n",
              "      --fill-color: #1967D2;\n",
              "      --hover-bg-color: #E2EBFA;\n",
              "      --hover-fill-color: #174EA6;\n",
              "      --disabled-fill-color: #AAA;\n",
              "      --disabled-bg-color: #DDD;\n",
              "  }\n",
              "\n",
              "  [theme=dark] .colab-df-quickchart {\n",
              "      --bg-color: #3B4455;\n",
              "      --fill-color: #D2E3FC;\n",
              "      --hover-bg-color: #434B5C;\n",
              "      --hover-fill-color: #FFFFFF;\n",
              "      --disabled-bg-color: #3B4455;\n",
              "      --disabled-fill-color: #666;\n",
              "  }\n",
              "\n",
              "  .colab-df-quickchart {\n",
              "    background-color: var(--bg-color);\n",
              "    border: none;\n",
              "    border-radius: 50%;\n",
              "    cursor: pointer;\n",
              "    display: none;\n",
              "    fill: var(--fill-color);\n",
              "    height: 32px;\n",
              "    padding: 0;\n",
              "    width: 32px;\n",
              "  }\n",
              "\n",
              "  .colab-df-quickchart:hover {\n",
              "    background-color: var(--hover-bg-color);\n",
              "    box-shadow: 0 1px 2px rgba(60, 64, 67, 0.3), 0 1px 3px 1px rgba(60, 64, 67, 0.15);\n",
              "    fill: var(--button-hover-fill-color);\n",
              "  }\n",
              "\n",
              "  .colab-df-quickchart-complete:disabled,\n",
              "  .colab-df-quickchart-complete:disabled:hover {\n",
              "    background-color: var(--disabled-bg-color);\n",
              "    fill: var(--disabled-fill-color);\n",
              "    box-shadow: none;\n",
              "  }\n",
              "\n",
              "  .colab-df-spinner {\n",
              "    border: 2px solid var(--fill-color);\n",
              "    border-color: transparent;\n",
              "    border-bottom-color: var(--fill-color);\n",
              "    animation:\n",
              "      spin 1s steps(1) infinite;\n",
              "  }\n",
              "\n",
              "  @keyframes spin {\n",
              "    0% {\n",
              "      border-color: transparent;\n",
              "      border-bottom-color: var(--fill-color);\n",
              "      border-left-color: var(--fill-color);\n",
              "    }\n",
              "    20% {\n",
              "      border-color: transparent;\n",
              "      border-left-color: var(--fill-color);\n",
              "      border-top-color: var(--fill-color);\n",
              "    }\n",
              "    30% {\n",
              "      border-color: transparent;\n",
              "      border-left-color: var(--fill-color);\n",
              "      border-top-color: var(--fill-color);\n",
              "      border-right-color: var(--fill-color);\n",
              "    }\n",
              "    40% {\n",
              "      border-color: transparent;\n",
              "      border-right-color: var(--fill-color);\n",
              "      border-top-color: var(--fill-color);\n",
              "    }\n",
              "    60% {\n",
              "      border-color: transparent;\n",
              "      border-right-color: var(--fill-color);\n",
              "    }\n",
              "    80% {\n",
              "      border-color: transparent;\n",
              "      border-right-color: var(--fill-color);\n",
              "      border-bottom-color: var(--fill-color);\n",
              "    }\n",
              "    90% {\n",
              "      border-color: transparent;\n",
              "      border-bottom-color: var(--fill-color);\n",
              "    }\n",
              "  }\n",
              "</style>\n",
              "\n",
              "  <script>\n",
              "    async function quickchart(key) {\n",
              "      const quickchartButtonEl =\n",
              "        document.querySelector('#' + key + ' button');\n",
              "      quickchartButtonEl.disabled = true;  // To prevent multiple clicks.\n",
              "      quickchartButtonEl.classList.add('colab-df-spinner');\n",
              "      try {\n",
              "        const charts = await google.colab.kernel.invokeFunction(\n",
              "            'suggestCharts', [key], {});\n",
              "      } catch (error) {\n",
              "        console.error('Error during call to suggestCharts:', error);\n",
              "      }\n",
              "      quickchartButtonEl.classList.remove('colab-df-spinner');\n",
              "      quickchartButtonEl.classList.add('colab-df-quickchart-complete');\n",
              "    }\n",
              "    (() => {\n",
              "      let quickchartButtonEl =\n",
              "        document.querySelector('#df-f1efc9b9-0a16-4c28-a101-6afaf6431797 button');\n",
              "      quickchartButtonEl.style.display =\n",
              "        google.colab.kernel.accessAllowed ? 'block' : 'none';\n",
              "    })();\n",
              "  </script>\n",
              "</div>\n",
              "    </div>\n",
              "  </div>\n"
            ]
          },
          "metadata": {},
          "execution_count": 72
        }
      ]
    },
    {
      "cell_type": "code",
      "source": [
        "sheet2 = pd.read_excel('Countries.xlsx')"
      ],
      "metadata": {
        "id": "oAQJgMiVhic5"
      },
      "execution_count": null,
      "outputs": []
    },
    {
      "cell_type": "code",
      "source": [
        "sheet2.shape"
      ],
      "metadata": {
        "id": "B6a6_HR1im-Q"
      },
      "execution_count": null,
      "outputs": []
    },
    {
      "cell_type": "code",
      "source": [
        "sheet2.head()"
      ],
      "metadata": {
        "id": "qAsvr4SVkBlY"
      },
      "execution_count": null,
      "outputs": []
    },
    {
      "cell_type": "code",
      "source": [
        "# Identify columns in sheet2 that are not present in sheet1\n",
        "missing_columns = set(sheet2.columns) - set(sheet1.columns)\n",
        "missing_columns"
      ],
      "metadata": {
        "id": "DnJavoqBxG8_"
      },
      "execution_count": null,
      "outputs": []
    },
    {
      "cell_type": "code",
      "source": [
        "len(missing_columns)"
      ],
      "metadata": {
        "id": "2YS56Fq2ypvV"
      },
      "execution_count": null,
      "outputs": []
    },
    {
      "cell_type": "code",
      "source": [
        "# Drop all columns except for the specified ones\n",
        "sheet2_filtered = sheet2[['Patient_ID'] + list(missing_columns)]\n",
        "sheet2_filtered.shape"
      ],
      "metadata": {
        "id": "lZYsCHKAy7nd"
      },
      "execution_count": null,
      "outputs": []
    },
    {
      "cell_type": "code",
      "source": [
        "sheet2_filtered"
      ],
      "metadata": {
        "id": "d9Q5ZfAFzYdx"
      },
      "execution_count": null,
      "outputs": []
    },
    {
      "cell_type": "code",
      "source": [
        "sheet2_filtered.isna().sum()"
      ],
      "metadata": {
        "id": "26V1Xg2O1qzl"
      },
      "execution_count": null,
      "outputs": []
    },
    {
      "cell_type": "code",
      "source": [
        "sheet3 = pd.read_excel('Gender.xlsx')"
      ],
      "metadata": {
        "id": "EEMeN5zsj5I-"
      },
      "execution_count": null,
      "outputs": []
    },
    {
      "cell_type": "code",
      "source": [
        "sheet3.shape"
      ],
      "metadata": {
        "id": "mlBzSoLrj_VK"
      },
      "execution_count": null,
      "outputs": []
    },
    {
      "cell_type": "code",
      "source": [
        "sheet3"
      ],
      "metadata": {
        "id": "1zwqAGYokFJN"
      },
      "execution_count": null,
      "outputs": []
    },
    {
      "cell_type": "code",
      "source": [
        "sheet3= sheet3.iloc[:, 0:2]\n",
        "sheet3.shape"
      ],
      "metadata": {
        "id": "x8cJV_pQoLZl"
      },
      "execution_count": null,
      "outputs": []
    },
    {
      "cell_type": "code",
      "source": [
        "sheet3"
      ],
      "metadata": {
        "id": "iFkxB98R2pC_"
      },
      "execution_count": null,
      "outputs": []
    },
    {
      "cell_type": "code",
      "execution_count": null,
      "metadata": {
        "id": "EZPqRMAWcove"
      },
      "outputs": [],
      "source": [
        "import pandas as pd\n",
        "\n",
        "# Merge the sheets based on \"Patient_ID\" column with suffixes\n",
        "merged_df = pd.merge(sheet1, sheet2_filtered, on='Patient_ID', how='inner', suffixes=('_sheet1', '_sheet2'))\n",
        "merged_df = pd.merge(merged_df, sheet3, on='Patient_ID', how='inner', suffixes=('_merged', '_sheet3'))\n",
        "\n",
        "# Drop duplicated columns\n",
        "duplicated_columns = merged_df.columns[merged_df.columns.str.endswith('_merged')]\n",
        "merged_df = merged_df.drop(columns=duplicated_columns)"
      ]
    },
    {
      "cell_type": "code",
      "source": [
        "merged_df.shape"
      ],
      "metadata": {
        "id": "cn5sPptPpF52"
      },
      "execution_count": null,
      "outputs": []
    },
    {
      "cell_type": "code",
      "source": [
        "merged_df.isna().sum()"
      ],
      "metadata": {
        "id": "dDwgiDyaqGsu"
      },
      "execution_count": null,
      "outputs": []
    },
    {
      "cell_type": "code",
      "source": [
        "merged_df.tail()"
      ],
      "metadata": {
        "id": "OcoHAky4pa1G"
      },
      "execution_count": null,
      "outputs": []
    },
    {
      "cell_type": "code",
      "source": [
        "merged_df.loc[746,'Class'] = 'ND'\n",
        "merged_df.loc[746,'Gender'] = 'F'\n",
        "merged_df.tail()"
      ],
      "metadata": {
        "id": "sK57rmz0sqbZ"
      },
      "execution_count": null,
      "outputs": []
    },
    {
      "cell_type": "code",
      "source": [
        "merged_df.isna().sum()"
      ],
      "metadata": {
        "id": "R8h_TJwTtboz"
      },
      "execution_count": null,
      "outputs": []
    },
    {
      "cell_type": "code",
      "source": [
        "# Shuffle the rows\n",
        "merged_df2 = merged_df.sample(frac=1, random_state=42)"
      ],
      "metadata": {
        "id": "JunrPhRyuchc"
      },
      "execution_count": null,
      "outputs": []
    },
    {
      "cell_type": "code",
      "source": [
        "# Specify the columns to be moved to the end\n",
        "columns_to_move = [\"Country\", \"Gender\", \"Class\"]\n",
        "\n",
        "# Reorder columns and save to a new Excel file\n",
        "new_sheet = merged_df2[[col for col in merged_df2.columns if col not in columns_to_move] + columns_to_move]\n",
        "new_sheet"
      ],
      "metadata": {
        "id": "aJGffd-BFR4K"
      },
      "execution_count": null,
      "outputs": []
    },
    {
      "cell_type": "code",
      "source": [
        "# Save the merged dataframes to a new Excel file\n",
        "new_sheet.to_excel('Dataset.xlsx', index=False)"
      ],
      "metadata": {
        "id": "Bl0qMXx7tSn-"
      },
      "execution_count": null,
      "outputs": []
    },
    {
      "cell_type": "code",
      "source": [
        "import pandas as pd\n",
        "sheet1 = pd.read_excel('Dataset.xlsx')"
      ],
      "metadata": {
        "id": "CtDKZdkOZOYw"
      },
      "execution_count": null,
      "outputs": []
    },
    {
      "cell_type": "code",
      "source": [
        "sheet1.info()"
      ],
      "metadata": {
        "colab": {
          "base_uri": "https://localhost:8080/"
        },
        "id": "RwJBwGSgaCX7",
        "outputId": "38c36f31-f1c8-49cf-e1e2-893b7082354f"
      },
      "execution_count": null,
      "outputs": [
        {
          "output_type": "stream",
          "name": "stdout",
          "text": [
            "<class 'pandas.core.frame.DataFrame'>\n",
            "RangeIndex: 747 entries, 0 to 746\n",
            "Columns: 6605 entries, Patient_ID to Class\n",
            "dtypes: float64(5914), int64(686), object(5)\n",
            "memory usage: 37.6+ MB\n"
          ]
        }
      ]
    },
    {
      "cell_type": "code",
      "source": [
        "int_columns = sheet1.select_dtypes(include=['int64']).columns\n",
        "sheet1[int_columns] = sheet1[int_columns].astype('float64')"
      ],
      "metadata": {
        "id": "T50D5gRoaXIv"
      },
      "execution_count": null,
      "outputs": []
    },
    {
      "cell_type": "code",
      "source": [
        "sheet1.describe()"
      ],
      "metadata": {
        "colab": {
          "base_uri": "https://localhost:8080/",
          "height": 349
        },
        "id": "8zcri1vsaLbF",
        "outputId": "9c323cae-faf6-415b-92f6-33aff9cbcdff"
      },
      "execution_count": null,
      "outputs": [
        {
          "output_type": "execute_result",
          "data": {
            "text/plain": [
              "       Clostridium_XI_Otu12  Klebsiella_Otu4  Staphylococcus_Otu3  \\\n",
              "count            747.000000       747.000000           747.000000   \n",
              "mean               0.002600         0.005785             0.001695   \n",
              "std                0.022084         0.030038             0.009057   \n",
              "min                0.000000         0.000000             0.000000   \n",
              "25%                0.000000         0.000000             0.000000   \n",
              "50%                0.000067         0.000000             0.000067   \n",
              "75%                0.001067         0.000600             0.000267   \n",
              "max                0.569600         0.443267             0.152467   \n",
              "\n",
              "       Escherichia/Shigella_Otu2  Enterococcus_Otu1  Streptococcus_Otu8  \\\n",
              "count                 747.000000         747.000000          747.000000   \n",
              "mean                    0.032198           0.017602            0.008926   \n",
              "std                     0.057995           0.089886            0.028313   \n",
              "min                     0.000000           0.000000            0.000000   \n",
              "25%                     0.000333           0.000000            0.000067   \n",
              "50%                     0.005333           0.000333            0.000600   \n",
              "75%                     0.035700           0.002267            0.004267   \n",
              "max                     0.486267           0.982800            0.357667   \n",
              "\n",
              "       Sphingomonas_Otu5  Finegoldia_Otu9  Ruminococcaceae_unclassified_Otu11  \\\n",
              "count         747.000000       747.000000                          747.000000   \n",
              "mean            0.037598         0.042804                            0.002002   \n",
              "std             0.143334         0.069327                            0.005580   \n",
              "min             0.000000         0.000000                            0.000000   \n",
              "25%             0.000000         0.001467                            0.000000   \n",
              "50%             0.000000         0.015267                            0.000200   \n",
              "75%             0.000967         0.052533                            0.001200   \n",
              "max             0.834600         0.575333                            0.062333   \n",
              "\n",
              "       Prevotella_Otu7  ...  Anaerofustis_Otu5304  Prevotella_Otu17988  \\\n",
              "count       747.000000  ...                 747.0                747.0   \n",
              "mean          0.003633  ...                   0.0                  0.0   \n",
              "std           0.019663  ...                   0.0                  0.0   \n",
              "min           0.000000  ...                   0.0                  0.0   \n",
              "25%           0.000000  ...                   0.0                  0.0   \n",
              "50%           0.000000  ...                   0.0                  0.0   \n",
              "75%           0.000133  ...                   0.0                  0.0   \n",
              "max           0.292800  ...                   0.0                  0.0   \n",
              "\n",
              "       Sphingomonadaceae_unclassified_Otu6220  Parabacteroides_Otu4146  \\\n",
              "count                                   747.0                    747.0   \n",
              "mean                                      0.0                      0.0   \n",
              "std                                       0.0                      0.0   \n",
              "min                                       0.0                      0.0   \n",
              "25%                                       0.0                      0.0   \n",
              "50%                                       0.0                      0.0   \n",
              "75%                                       0.0                      0.0   \n",
              "max                                       0.0                      0.0   \n",
              "\n",
              "       Myxococcales_unclassified_Otu5608  Gp6_unclassified_Otu2921  \\\n",
              "count                              747.0                     747.0   \n",
              "mean                                 0.0                       0.0   \n",
              "std                                  0.0                       0.0   \n",
              "min                                  0.0                       0.0   \n",
              "25%                                  0.0                       0.0   \n",
              "50%                                  0.0                       0.0   \n",
              "75%                                  0.0                       0.0   \n",
              "max                                  0.0                       0.0   \n",
              "\n",
              "       Ruminococcaceae_unclassified_Otu8321  Prevotella_Otu16745  \\\n",
              "count                                 747.0                747.0   \n",
              "mean                                    0.0                  0.0   \n",
              "std                                     0.0                  0.0   \n",
              "min                                     0.0                  0.0   \n",
              "25%                                     0.0                  0.0   \n",
              "50%                                     0.0                  0.0   \n",
              "75%                                     0.0                  0.0   \n",
              "max                                     0.0                  0.0   \n",
              "\n",
              "       Gammaproteobacteria_unclassified_Otu3735  \\\n",
              "count                                     747.0   \n",
              "mean                                        0.0   \n",
              "std                                         0.0   \n",
              "min                                         0.0   \n",
              "25%                                         0.0   \n",
              "50%                                         0.0   \n",
              "75%                                         0.0   \n",
              "max                                         0.0   \n",
              "\n",
              "       Streptococcaceae_unclassified_Otu15293  \n",
              "count                                   747.0  \n",
              "mean                                      0.0  \n",
              "std                                       0.0  \n",
              "min                                       0.0  \n",
              "25%                                       0.0  \n",
              "50%                                       0.0  \n",
              "75%                                       0.0  \n",
              "max                                       0.0  \n",
              "\n",
              "[8 rows x 6600 columns]"
            ],
            "text/html": [
              "\n",
              "  <div id=\"df-bf7de895-01eb-4149-9c5a-fafd4c6ee390\" class=\"colab-df-container\">\n",
              "    <div>\n",
              "<style scoped>\n",
              "    .dataframe tbody tr th:only-of-type {\n",
              "        vertical-align: middle;\n",
              "    }\n",
              "\n",
              "    .dataframe tbody tr th {\n",
              "        vertical-align: top;\n",
              "    }\n",
              "\n",
              "    .dataframe thead th {\n",
              "        text-align: right;\n",
              "    }\n",
              "</style>\n",
              "<table border=\"1\" class=\"dataframe\">\n",
              "  <thead>\n",
              "    <tr style=\"text-align: right;\">\n",
              "      <th></th>\n",
              "      <th>Clostridium_XI_Otu12</th>\n",
              "      <th>Klebsiella_Otu4</th>\n",
              "      <th>Staphylococcus_Otu3</th>\n",
              "      <th>Escherichia/Shigella_Otu2</th>\n",
              "      <th>Enterococcus_Otu1</th>\n",
              "      <th>Streptococcus_Otu8</th>\n",
              "      <th>Sphingomonas_Otu5</th>\n",
              "      <th>Finegoldia_Otu9</th>\n",
              "      <th>Ruminococcaceae_unclassified_Otu11</th>\n",
              "      <th>Prevotella_Otu7</th>\n",
              "      <th>...</th>\n",
              "      <th>Anaerofustis_Otu5304</th>\n",
              "      <th>Prevotella_Otu17988</th>\n",
              "      <th>Sphingomonadaceae_unclassified_Otu6220</th>\n",
              "      <th>Parabacteroides_Otu4146</th>\n",
              "      <th>Myxococcales_unclassified_Otu5608</th>\n",
              "      <th>Gp6_unclassified_Otu2921</th>\n",
              "      <th>Ruminococcaceae_unclassified_Otu8321</th>\n",
              "      <th>Prevotella_Otu16745</th>\n",
              "      <th>Gammaproteobacteria_unclassified_Otu3735</th>\n",
              "      <th>Streptococcaceae_unclassified_Otu15293</th>\n",
              "    </tr>\n",
              "  </thead>\n",
              "  <tbody>\n",
              "    <tr>\n",
              "      <th>count</th>\n",
              "      <td>747.000000</td>\n",
              "      <td>747.000000</td>\n",
              "      <td>747.000000</td>\n",
              "      <td>747.000000</td>\n",
              "      <td>747.000000</td>\n",
              "      <td>747.000000</td>\n",
              "      <td>747.000000</td>\n",
              "      <td>747.000000</td>\n",
              "      <td>747.000000</td>\n",
              "      <td>747.000000</td>\n",
              "      <td>...</td>\n",
              "      <td>747.0</td>\n",
              "      <td>747.0</td>\n",
              "      <td>747.0</td>\n",
              "      <td>747.0</td>\n",
              "      <td>747.0</td>\n",
              "      <td>747.0</td>\n",
              "      <td>747.0</td>\n",
              "      <td>747.0</td>\n",
              "      <td>747.0</td>\n",
              "      <td>747.0</td>\n",
              "    </tr>\n",
              "    <tr>\n",
              "      <th>mean</th>\n",
              "      <td>0.002600</td>\n",
              "      <td>0.005785</td>\n",
              "      <td>0.001695</td>\n",
              "      <td>0.032198</td>\n",
              "      <td>0.017602</td>\n",
              "      <td>0.008926</td>\n",
              "      <td>0.037598</td>\n",
              "      <td>0.042804</td>\n",
              "      <td>0.002002</td>\n",
              "      <td>0.003633</td>\n",
              "      <td>...</td>\n",
              "      <td>0.0</td>\n",
              "      <td>0.0</td>\n",
              "      <td>0.0</td>\n",
              "      <td>0.0</td>\n",
              "      <td>0.0</td>\n",
              "      <td>0.0</td>\n",
              "      <td>0.0</td>\n",
              "      <td>0.0</td>\n",
              "      <td>0.0</td>\n",
              "      <td>0.0</td>\n",
              "    </tr>\n",
              "    <tr>\n",
              "      <th>std</th>\n",
              "      <td>0.022084</td>\n",
              "      <td>0.030038</td>\n",
              "      <td>0.009057</td>\n",
              "      <td>0.057995</td>\n",
              "      <td>0.089886</td>\n",
              "      <td>0.028313</td>\n",
              "      <td>0.143334</td>\n",
              "      <td>0.069327</td>\n",
              "      <td>0.005580</td>\n",
              "      <td>0.019663</td>\n",
              "      <td>...</td>\n",
              "      <td>0.0</td>\n",
              "      <td>0.0</td>\n",
              "      <td>0.0</td>\n",
              "      <td>0.0</td>\n",
              "      <td>0.0</td>\n",
              "      <td>0.0</td>\n",
              "      <td>0.0</td>\n",
              "      <td>0.0</td>\n",
              "      <td>0.0</td>\n",
              "      <td>0.0</td>\n",
              "    </tr>\n",
              "    <tr>\n",
              "      <th>min</th>\n",
              "      <td>0.000000</td>\n",
              "      <td>0.000000</td>\n",
              "      <td>0.000000</td>\n",
              "      <td>0.000000</td>\n",
              "      <td>0.000000</td>\n",
              "      <td>0.000000</td>\n",
              "      <td>0.000000</td>\n",
              "      <td>0.000000</td>\n",
              "      <td>0.000000</td>\n",
              "      <td>0.000000</td>\n",
              "      <td>...</td>\n",
              "      <td>0.0</td>\n",
              "      <td>0.0</td>\n",
              "      <td>0.0</td>\n",
              "      <td>0.0</td>\n",
              "      <td>0.0</td>\n",
              "      <td>0.0</td>\n",
              "      <td>0.0</td>\n",
              "      <td>0.0</td>\n",
              "      <td>0.0</td>\n",
              "      <td>0.0</td>\n",
              "    </tr>\n",
              "    <tr>\n",
              "      <th>25%</th>\n",
              "      <td>0.000000</td>\n",
              "      <td>0.000000</td>\n",
              "      <td>0.000000</td>\n",
              "      <td>0.000333</td>\n",
              "      <td>0.000000</td>\n",
              "      <td>0.000067</td>\n",
              "      <td>0.000000</td>\n",
              "      <td>0.001467</td>\n",
              "      <td>0.000000</td>\n",
              "      <td>0.000000</td>\n",
              "      <td>...</td>\n",
              "      <td>0.0</td>\n",
              "      <td>0.0</td>\n",
              "      <td>0.0</td>\n",
              "      <td>0.0</td>\n",
              "      <td>0.0</td>\n",
              "      <td>0.0</td>\n",
              "      <td>0.0</td>\n",
              "      <td>0.0</td>\n",
              "      <td>0.0</td>\n",
              "      <td>0.0</td>\n",
              "    </tr>\n",
              "    <tr>\n",
              "      <th>50%</th>\n",
              "      <td>0.000067</td>\n",
              "      <td>0.000000</td>\n",
              "      <td>0.000067</td>\n",
              "      <td>0.005333</td>\n",
              "      <td>0.000333</td>\n",
              "      <td>0.000600</td>\n",
              "      <td>0.000000</td>\n",
              "      <td>0.015267</td>\n",
              "      <td>0.000200</td>\n",
              "      <td>0.000000</td>\n",
              "      <td>...</td>\n",
              "      <td>0.0</td>\n",
              "      <td>0.0</td>\n",
              "      <td>0.0</td>\n",
              "      <td>0.0</td>\n",
              "      <td>0.0</td>\n",
              "      <td>0.0</td>\n",
              "      <td>0.0</td>\n",
              "      <td>0.0</td>\n",
              "      <td>0.0</td>\n",
              "      <td>0.0</td>\n",
              "    </tr>\n",
              "    <tr>\n",
              "      <th>75%</th>\n",
              "      <td>0.001067</td>\n",
              "      <td>0.000600</td>\n",
              "      <td>0.000267</td>\n",
              "      <td>0.035700</td>\n",
              "      <td>0.002267</td>\n",
              "      <td>0.004267</td>\n",
              "      <td>0.000967</td>\n",
              "      <td>0.052533</td>\n",
              "      <td>0.001200</td>\n",
              "      <td>0.000133</td>\n",
              "      <td>...</td>\n",
              "      <td>0.0</td>\n",
              "      <td>0.0</td>\n",
              "      <td>0.0</td>\n",
              "      <td>0.0</td>\n",
              "      <td>0.0</td>\n",
              "      <td>0.0</td>\n",
              "      <td>0.0</td>\n",
              "      <td>0.0</td>\n",
              "      <td>0.0</td>\n",
              "      <td>0.0</td>\n",
              "    </tr>\n",
              "    <tr>\n",
              "      <th>max</th>\n",
              "      <td>0.569600</td>\n",
              "      <td>0.443267</td>\n",
              "      <td>0.152467</td>\n",
              "      <td>0.486267</td>\n",
              "      <td>0.982800</td>\n",
              "      <td>0.357667</td>\n",
              "      <td>0.834600</td>\n",
              "      <td>0.575333</td>\n",
              "      <td>0.062333</td>\n",
              "      <td>0.292800</td>\n",
              "      <td>...</td>\n",
              "      <td>0.0</td>\n",
              "      <td>0.0</td>\n",
              "      <td>0.0</td>\n",
              "      <td>0.0</td>\n",
              "      <td>0.0</td>\n",
              "      <td>0.0</td>\n",
              "      <td>0.0</td>\n",
              "      <td>0.0</td>\n",
              "      <td>0.0</td>\n",
              "      <td>0.0</td>\n",
              "    </tr>\n",
              "  </tbody>\n",
              "</table>\n",
              "<p>8 rows × 6600 columns</p>\n",
              "</div>\n",
              "    <div class=\"colab-df-buttons\">\n",
              "\n",
              "  <div class=\"colab-df-container\">\n",
              "    <button class=\"colab-df-convert\" onclick=\"convertToInteractive('df-bf7de895-01eb-4149-9c5a-fafd4c6ee390')\"\n",
              "            title=\"Convert this dataframe to an interactive table.\"\n",
              "            style=\"display:none;\">\n",
              "\n",
              "  <svg xmlns=\"http://www.w3.org/2000/svg\" height=\"24px\" viewBox=\"0 -960 960 960\">\n",
              "    <path d=\"M120-120v-720h720v720H120Zm60-500h600v-160H180v160Zm220 220h160v-160H400v160Zm0 220h160v-160H400v160ZM180-400h160v-160H180v160Zm440 0h160v-160H620v160ZM180-180h160v-160H180v160Zm440 0h160v-160H620v160Z\"/>\n",
              "  </svg>\n",
              "    </button>\n",
              "\n",
              "  <style>\n",
              "    .colab-df-container {\n",
              "      display:flex;\n",
              "      gap: 12px;\n",
              "    }\n",
              "\n",
              "    .colab-df-convert {\n",
              "      background-color: #E8F0FE;\n",
              "      border: none;\n",
              "      border-radius: 50%;\n",
              "      cursor: pointer;\n",
              "      display: none;\n",
              "      fill: #1967D2;\n",
              "      height: 32px;\n",
              "      padding: 0 0 0 0;\n",
              "      width: 32px;\n",
              "    }\n",
              "\n",
              "    .colab-df-convert:hover {\n",
              "      background-color: #E2EBFA;\n",
              "      box-shadow: 0px 1px 2px rgba(60, 64, 67, 0.3), 0px 1px 3px 1px rgba(60, 64, 67, 0.15);\n",
              "      fill: #174EA6;\n",
              "    }\n",
              "\n",
              "    .colab-df-buttons div {\n",
              "      margin-bottom: 4px;\n",
              "    }\n",
              "\n",
              "    [theme=dark] .colab-df-convert {\n",
              "      background-color: #3B4455;\n",
              "      fill: #D2E3FC;\n",
              "    }\n",
              "\n",
              "    [theme=dark] .colab-df-convert:hover {\n",
              "      background-color: #434B5C;\n",
              "      box-shadow: 0px 1px 3px 1px rgba(0, 0, 0, 0.15);\n",
              "      filter: drop-shadow(0px 1px 2px rgba(0, 0, 0, 0.3));\n",
              "      fill: #FFFFFF;\n",
              "    }\n",
              "  </style>\n",
              "\n",
              "    <script>\n",
              "      const buttonEl =\n",
              "        document.querySelector('#df-bf7de895-01eb-4149-9c5a-fafd4c6ee390 button.colab-df-convert');\n",
              "      buttonEl.style.display =\n",
              "        google.colab.kernel.accessAllowed ? 'block' : 'none';\n",
              "\n",
              "      async function convertToInteractive(key) {\n",
              "        const element = document.querySelector('#df-bf7de895-01eb-4149-9c5a-fafd4c6ee390');\n",
              "        const dataTable =\n",
              "          await google.colab.kernel.invokeFunction('convertToInteractive',\n",
              "                                                    [key], {});\n",
              "        if (!dataTable) return;\n",
              "\n",
              "        const docLinkHtml = 'Like what you see? Visit the ' +\n",
              "          '<a target=\"_blank\" href=https://colab.research.google.com/notebooks/data_table.ipynb>data table notebook</a>'\n",
              "          + ' to learn more about interactive tables.';\n",
              "        element.innerHTML = '';\n",
              "        dataTable['output_type'] = 'display_data';\n",
              "        await google.colab.output.renderOutput(dataTable, element);\n",
              "        const docLink = document.createElement('div');\n",
              "        docLink.innerHTML = docLinkHtml;\n",
              "        element.appendChild(docLink);\n",
              "      }\n",
              "    </script>\n",
              "  </div>\n",
              "\n",
              "\n",
              "<div id=\"df-8d08d5c9-62dd-4042-ac8d-a692a78253b0\">\n",
              "  <button class=\"colab-df-quickchart\" onclick=\"quickchart('df-8d08d5c9-62dd-4042-ac8d-a692a78253b0')\"\n",
              "            title=\"Suggest charts\"\n",
              "            style=\"display:none;\">\n",
              "\n",
              "<svg xmlns=\"http://www.w3.org/2000/svg\" height=\"24px\"viewBox=\"0 0 24 24\"\n",
              "     width=\"24px\">\n",
              "    <g>\n",
              "        <path d=\"M19 3H5c-1.1 0-2 .9-2 2v14c0 1.1.9 2 2 2h14c1.1 0 2-.9 2-2V5c0-1.1-.9-2-2-2zM9 17H7v-7h2v7zm4 0h-2V7h2v10zm4 0h-2v-4h2v4z\"/>\n",
              "    </g>\n",
              "</svg>\n",
              "  </button>\n",
              "\n",
              "<style>\n",
              "  .colab-df-quickchart {\n",
              "      --bg-color: #E8F0FE;\n",
              "      --fill-color: #1967D2;\n",
              "      --hover-bg-color: #E2EBFA;\n",
              "      --hover-fill-color: #174EA6;\n",
              "      --disabled-fill-color: #AAA;\n",
              "      --disabled-bg-color: #DDD;\n",
              "  }\n",
              "\n",
              "  [theme=dark] .colab-df-quickchart {\n",
              "      --bg-color: #3B4455;\n",
              "      --fill-color: #D2E3FC;\n",
              "      --hover-bg-color: #434B5C;\n",
              "      --hover-fill-color: #FFFFFF;\n",
              "      --disabled-bg-color: #3B4455;\n",
              "      --disabled-fill-color: #666;\n",
              "  }\n",
              "\n",
              "  .colab-df-quickchart {\n",
              "    background-color: var(--bg-color);\n",
              "    border: none;\n",
              "    border-radius: 50%;\n",
              "    cursor: pointer;\n",
              "    display: none;\n",
              "    fill: var(--fill-color);\n",
              "    height: 32px;\n",
              "    padding: 0;\n",
              "    width: 32px;\n",
              "  }\n",
              "\n",
              "  .colab-df-quickchart:hover {\n",
              "    background-color: var(--hover-bg-color);\n",
              "    box-shadow: 0 1px 2px rgba(60, 64, 67, 0.3), 0 1px 3px 1px rgba(60, 64, 67, 0.15);\n",
              "    fill: var(--button-hover-fill-color);\n",
              "  }\n",
              "\n",
              "  .colab-df-quickchart-complete:disabled,\n",
              "  .colab-df-quickchart-complete:disabled:hover {\n",
              "    background-color: var(--disabled-bg-color);\n",
              "    fill: var(--disabled-fill-color);\n",
              "    box-shadow: none;\n",
              "  }\n",
              "\n",
              "  .colab-df-spinner {\n",
              "    border: 2px solid var(--fill-color);\n",
              "    border-color: transparent;\n",
              "    border-bottom-color: var(--fill-color);\n",
              "    animation:\n",
              "      spin 1s steps(1) infinite;\n",
              "  }\n",
              "\n",
              "  @keyframes spin {\n",
              "    0% {\n",
              "      border-color: transparent;\n",
              "      border-bottom-color: var(--fill-color);\n",
              "      border-left-color: var(--fill-color);\n",
              "    }\n",
              "    20% {\n",
              "      border-color: transparent;\n",
              "      border-left-color: var(--fill-color);\n",
              "      border-top-color: var(--fill-color);\n",
              "    }\n",
              "    30% {\n",
              "      border-color: transparent;\n",
              "      border-left-color: var(--fill-color);\n",
              "      border-top-color: var(--fill-color);\n",
              "      border-right-color: var(--fill-color);\n",
              "    }\n",
              "    40% {\n",
              "      border-color: transparent;\n",
              "      border-right-color: var(--fill-color);\n",
              "      border-top-color: var(--fill-color);\n",
              "    }\n",
              "    60% {\n",
              "      border-color: transparent;\n",
              "      border-right-color: var(--fill-color);\n",
              "    }\n",
              "    80% {\n",
              "      border-color: transparent;\n",
              "      border-right-color: var(--fill-color);\n",
              "      border-bottom-color: var(--fill-color);\n",
              "    }\n",
              "    90% {\n",
              "      border-color: transparent;\n",
              "      border-bottom-color: var(--fill-color);\n",
              "    }\n",
              "  }\n",
              "</style>\n",
              "\n",
              "  <script>\n",
              "    async function quickchart(key) {\n",
              "      const quickchartButtonEl =\n",
              "        document.querySelector('#' + key + ' button');\n",
              "      quickchartButtonEl.disabled = true;  // To prevent multiple clicks.\n",
              "      quickchartButtonEl.classList.add('colab-df-spinner');\n",
              "      try {\n",
              "        const charts = await google.colab.kernel.invokeFunction(\n",
              "            'suggestCharts', [key], {});\n",
              "      } catch (error) {\n",
              "        console.error('Error during call to suggestCharts:', error);\n",
              "      }\n",
              "      quickchartButtonEl.classList.remove('colab-df-spinner');\n",
              "      quickchartButtonEl.classList.add('colab-df-quickchart-complete');\n",
              "    }\n",
              "    (() => {\n",
              "      let quickchartButtonEl =\n",
              "        document.querySelector('#df-8d08d5c9-62dd-4042-ac8d-a692a78253b0 button');\n",
              "      quickchartButtonEl.style.display =\n",
              "        google.colab.kernel.accessAllowed ? 'block' : 'none';\n",
              "    })();\n",
              "  </script>\n",
              "</div>\n",
              "\n",
              "    </div>\n",
              "  </div>\n"
            ]
          },
          "metadata": {},
          "execution_count": 4
        }
      ]
    },
    {
      "cell_type": "code",
      "source": [
        "sheet1= sheet1.drop('(945, 0)', axis=1)"
      ],
      "metadata": {
        "id": "RA2bdF8-azDf"
      },
      "execution_count": null,
      "outputs": []
    },
    {
      "cell_type": "code",
      "source": [
        "sheet1= sheet1.drop('Patient_ID', axis=1)"
      ],
      "metadata": {
        "id": "Xa1JjYLabNAX"
      },
      "execution_count": null,
      "outputs": []
    },
    {
      "cell_type": "code",
      "source": [
        "\n",
        "sheet1.info()"
      ],
      "metadata": {
        "colab": {
          "base_uri": "https://localhost:8080/"
        },
        "id": "1k0yBkUSbCJW",
        "outputId": "5730bded-6269-44c5-b41a-c16d49e9d889"
      },
      "execution_count": null,
      "outputs": [
        {
          "output_type": "stream",
          "name": "stdout",
          "text": [
            "<class 'pandas.core.frame.DataFrame'>\n",
            "RangeIndex: 747 entries, 0 to 746\n",
            "Columns: 6603 entries, Clostridium_XI_Otu12 to Class\n",
            "dtypes: float64(6600), object(3)\n",
            "memory usage: 37.6+ MB\n"
          ]
        }
      ]
    },
    {
      "cell_type": "code",
      "source": [
        "zero_columns = sheet1.columns[sheet1.eq(0).all()] # Display the columns with all zeros\n",
        "print(zero_columns)"
      ],
      "metadata": {
        "colab": {
          "base_uri": "https://localhost:8080/"
        },
        "id": "Fbhps2SAbKvL",
        "outputId": "c335584d-6f9f-480e-81b9-e8ae23a051fd"
      },
      "execution_count": null,
      "outputs": [
        {
          "output_type": "stream",
          "name": "stdout",
          "text": [
            "Index(['Bifidobacteriaceae_unclassified_Otu12326',\n",
            "       'Escherichia/Shigella_Otu6353', 'Veillonella_Otu4903',\n",
            "       'Parabacteroides_Otu19828', 'Parabacteroides_Otu19822',\n",
            "       'Spartobacteria_unclassified_Otu14666', 'Parabacteroides_Otu5819',\n",
            "       'Ruminococcaceae_unclassified_Otu13720',\n",
            "       'Bacteroidales_unclassified_Otu8038', 'Parabacteroides_Otu6229',\n",
            "       ...\n",
            "       'Anaerofustis_Otu5304', 'Prevotella_Otu17988',\n",
            "       'Sphingomonadaceae_unclassified_Otu6220', 'Parabacteroides_Otu4146',\n",
            "       'Myxococcales_unclassified_Otu5608', 'Gp6_unclassified_Otu2921',\n",
            "       'Ruminococcaceae_unclassified_Otu8321', 'Prevotella_Otu16745',\n",
            "       'Gammaproteobacteria_unclassified_Otu3735',\n",
            "       'Streptococcaceae_unclassified_Otu15293'],\n",
            "      dtype='object', length=686)\n"
          ]
        }
      ]
    },
    {
      "cell_type": "code",
      "source": [
        "sheet1= sheet1.drop(zero_columns, axis=1)\n",
        "sheet1.info()"
      ],
      "metadata": {
        "colab": {
          "base_uri": "https://localhost:8080/"
        },
        "id": "ZleXX2bmcHPt",
        "outputId": "c537e8b0-1b7d-4a09-fb7a-36d1cc772eed"
      },
      "execution_count": null,
      "outputs": [
        {
          "output_type": "stream",
          "name": "stdout",
          "text": [
            "<class 'pandas.core.frame.DataFrame'>\n",
            "RangeIndex: 747 entries, 0 to 746\n",
            "Columns: 5917 entries, Clostridium_XI_Otu12 to Class\n",
            "dtypes: float64(5914), object(3)\n",
            "memory usage: 33.7+ MB\n"
          ]
        }
      ]
    },
    {
      "cell_type": "code",
      "source": [
        "sheet1.duplicated().sum()"
      ],
      "metadata": {
        "colab": {
          "base_uri": "https://localhost:8080/"
        },
        "id": "St-_IWK8cpDZ",
        "outputId": "5ec3d80d-88f6-4375-98a9-7cd068320f3d"
      },
      "execution_count": null,
      "outputs": [
        {
          "output_type": "execute_result",
          "data": {
            "text/plain": [
              "0"
            ]
          },
          "metadata": {},
          "execution_count": 10
        }
      ]
    },
    {
      "cell_type": "code",
      "source": [
        "#outliers\n",
        "import matplotlib.pyplot as plt\n",
        "import seaborn as sns\n",
        "\n",
        "plt.figure(figsize=(15,8))\n",
        "sns.boxplot(x='Class', y='Clostridium_XI_Otu12', data=sheet1, palette=\"muted\")\n",
        "plt.title('Boxplot for Clostridium_XI_Otu12 Column')\n",
        "plt.xlabel('Clostridium_XI_Otu12')\n",
        "\n",
        "plt.show()"
      ],
      "metadata": {
        "colab": {
          "base_uri": "https://localhost:8080/",
          "height": 570
        },
        "id": "y2VXTy3wjI4P",
        "outputId": "fbb08dd9-6b63-4d58-dfcf-29748a46f3b6"
      },
      "execution_count": null,
      "outputs": [
        {
          "output_type": "display_data",
          "data": {
            "text/plain": [
              "<Figure size 1500x800 with 1 Axes>"
            ],
            "image/png": "[encoded data removed]"
          },
          "metadata": {}
        }
      ]
    },
    {
      "cell_type": "code",
      "source": [
        "\n",
        "float_columns = sheet1.select_dtypes(include=['float64']).columns\n",
        "selected_columns = [col for col in float_columns if sheet1[col].min() < 0]\n",
        "result_df = sheet1[selected_columns]\n",
        "print(result_df)"
      ],
      "metadata": {
        "colab": {
          "base_uri": "https://localhost:8080/"
        },
        "id": "x9Eya6b_drwq",
        "outputId": "0c1289b6-877e-4cd4-da22-6a898d555968"
      },
      "execution_count": null,
      "outputs": [
        {
          "output_type": "stream",
          "name": "stdout",
          "text": [
            "Empty DataFrame\n",
            "Columns: []\n",
            "Index: [0, 1, 2, 3, 4, 5, 6, 7, 8, 9, 10, 11, 12, 13, 14, 15, 16, 17, 18, 19, 20, 21, 22, 23, 24, 25, 26, 27, 28, 29, 30, 31, 32, 33, 34, 35, 36, 37, 38, 39, 40, 41, 42, 43, 44, 45, 46, 47, 48, 49, 50, 51, 52, 53, 54, 55, 56, 57, 58, 59, 60, 61, 62, 63, 64, 65, 66, 67, 68, 69, 70, 71, 72, 73, 74, 75, 76, 77, 78, 79, 80, 81, 82, 83, 84, 85, 86, 87, 88, 89, 90, 91, 92, 93, 94, 95, 96, 97, 98, 99, ...]\n",
            "\n",
            "[747 rows x 0 columns]\n"
          ]
        }
      ]
    },
    {
      "cell_type": "code",
      "source": [
        "sheet1['Class'].value_counts()"
      ],
      "metadata": {
        "colab": {
          "base_uri": "https://localhost:8080/"
        },
        "id": "UO4X8oSjmitf",
        "outputId": "edd9afb2-643b-4dee-d178-dddb0229dcae"
      },
      "execution_count": null,
      "outputs": [
        {
          "output_type": "execute_result",
          "data": {
            "text/plain": [
              "ND     669\n",
              "AAD     64\n",
              "CDI     14\n",
              "Name: Class, dtype: int64"
            ]
          },
          "metadata": {},
          "execution_count": 13
        }
      ]
    },
    {
      "cell_type": "code",
      "source": [
        "sns.countplot(x='Class', data=sheet1)\n",
        "plt.show()"
      ],
      "metadata": {
        "colab": {
          "base_uri": "https://localhost:8080/",
          "height": 454
        },
        "id": "uHO8uTCmKs-s",
        "outputId": "c6a5047e-a515-4af8-98b0-4c1fe777a0fa"
      },
      "execution_count": null,
      "outputs": [
        {
          "output_type": "display_data",
          "data": {
            "text/plain": [
              "<Figure size 640x480 with 1 Axes>"
            ],
            "image/png": "[encoded data removed]"
          },
          "metadata": {}
        }
      ]
    },
    {
      "cell_type": "code",
      "source": [
        "g= pd.crosstab(sheet1.Gender, sheet1.Class)\n",
        "g"
      ],
      "metadata": {
        "colab": {
          "base_uri": "https://localhost:8080/",
          "height": 143
        },
        "id": "dSk_Teqtm7j4",
        "outputId": "2136675b-dcd4-4e1c-d866-ea6f6295613b"
      },
      "execution_count": null,
      "outputs": [
        {
          "output_type": "execute_result",
          "data": {
            "text/plain": [
              "Class   AAD  CDI   ND\n",
              "Gender               \n",
              "F        34    5  279\n",
              "M        30    9  390"
            ],
            "text/html": [
              "\n",
              "  <div id=\"df-2465b4bd-98b7-4fe4-a9ea-9f8a7482b2a7\" class=\"colab-df-container\">\n",
              "    <div>\n",
              "<style scoped>\n",
              "    .dataframe tbody tr th:only-of-type {\n",
              "        vertical-align: middle;\n",
              "    }\n",
              "\n",
              "    .dataframe tbody tr th {\n",
              "        vertical-align: top;\n",
              "    }\n",
              "\n",
              "    .dataframe thead th {\n",
              "        text-align: right;\n",
              "    }\n",
              "</style>\n",
              "<table border=\"1\" class=\"dataframe\">\n",
              "  <thead>\n",
              "    <tr style=\"text-align: right;\">\n",
              "      <th>Class</th>\n",
              "      <th>AAD</th>\n",
              "      <th>CDI</th>\n",
              "      <th>ND</th>\n",
              "    </tr>\n",
              "    <tr>\n",
              "      <th>Gender</th>\n",
              "      <th></th>\n",
              "      <th></th>\n",
              "      <th></th>\n",
              "    </tr>\n",
              "  </thead>\n",
              "  <tbody>\n",
              "    <tr>\n",
              "      <th>F</th>\n",
              "      <td>34</td>\n",
              "      <td>5</td>\n",
              "      <td>279</td>\n",
              "    </tr>\n",
              "    <tr>\n",
              "      <th>M</th>\n",
              "      <td>30</td>\n",
              "      <td>9</td>\n",
              "      <td>390</td>\n",
              "    </tr>\n",
              "  </tbody>\n",
              "</table>\n",
              "</div>\n",
              "    <div class=\"colab-df-buttons\">\n",
              "\n",
              "  <div class=\"colab-df-container\">\n",
              "    <button class=\"colab-df-convert\" onclick=\"convertToInteractive('df-2465b4bd-98b7-4fe4-a9ea-9f8a7482b2a7')\"\n",
              "            title=\"Convert this dataframe to an interactive table.\"\n",
              "            style=\"display:none;\">\n",
              "\n",
              "  <svg xmlns=\"http://www.w3.org/2000/svg\" height=\"24px\" viewBox=\"0 -960 960 960\">\n",
              "    <path d=\"M120-120v-720h720v720H120Zm60-500h600v-160H180v160Zm220 220h160v-160H400v160Zm0 220h160v-160H400v160ZM180-400h160v-160H180v160Zm440 0h160v-160H620v160ZM180-180h160v-160H180v160Zm440 0h160v-160H620v160Z\"/>\n",
              "  </svg>\n",
              "    </button>\n",
              "\n",
              "  <style>\n",
              "    .colab-df-container {\n",
              "      display:flex;\n",
              "      gap: 12px;\n",
              "    }\n",
              "\n",
              "    .colab-df-convert {\n",
              "      background-color: #E8F0FE;\n",
              "      border: none;\n",
              "      border-radius: 50%;\n",
              "      cursor: pointer;\n",
              "      display: none;\n",
              "      fill: #1967D2;\n",
              "      height: 32px;\n",
              "      padding: 0 0 0 0;\n",
              "      width: 32px;\n",
              "    }\n",
              "\n",
              "    .colab-df-convert:hover {\n",
              "      background-color: #E2EBFA;\n",
              "      box-shadow: 0px 1px 2px rgba(60, 64, 67, 0.3), 0px 1px 3px 1px rgba(60, 64, 67, 0.15);\n",
              "      fill: #174EA6;\n",
              "    }\n",
              "\n",
              "    .colab-df-buttons div {\n",
              "      margin-bottom: 4px;\n",
              "    }\n",
              "\n",
              "    [theme=dark] .colab-df-convert {\n",
              "      background-color: #3B4455;\n",
              "      fill: #D2E3FC;\n",
              "    }\n",
              "\n",
              "    [theme=dark] .colab-df-convert:hover {\n",
              "      background-color: #434B5C;\n",
              "      box-shadow: 0px 1px 3px 1px rgba(0, 0, 0, 0.15);\n",
              "      filter: drop-shadow(0px 1px 2px rgba(0, 0, 0, 0.3));\n",
              "      fill: #FFFFFF;\n",
              "    }\n",
              "  </style>\n",
              "\n",
              "    <script>\n",
              "      const buttonEl =\n",
              "        document.querySelector('#df-2465b4bd-98b7-4fe4-a9ea-9f8a7482b2a7 button.colab-df-convert');\n",
              "      buttonEl.style.display =\n",
              "        google.colab.kernel.accessAllowed ? 'block' : 'none';\n",
              "\n",
              "      async function convertToInteractive(key) {\n",
              "        const element = document.querySelector('#df-2465b4bd-98b7-4fe4-a9ea-9f8a7482b2a7');\n",
              "        const dataTable =\n",
              "          await google.colab.kernel.invokeFunction('convertToInteractive',\n",
              "                                                    [key], {});\n",
              "        if (!dataTable) return;\n",
              "\n",
              "        const docLinkHtml = 'Like what you see? Visit the ' +\n",
              "          '<a target=\"_blank\" href=https://colab.research.google.com/notebooks/data_table.ipynb>data table notebook</a>'\n",
              "          + ' to learn more about interactive tables.';\n",
              "        element.innerHTML = '';\n",
              "        dataTable['output_type'] = 'display_data';\n",
              "        await google.colab.output.renderOutput(dataTable, element);\n",
              "        const docLink = document.createElement('div');\n",
              "        docLink.innerHTML = docLinkHtml;\n",
              "        element.appendChild(docLink);\n",
              "      }\n",
              "    </script>\n",
              "  </div>\n",
              "\n",
              "\n",
              "<div id=\"df-4edaaeda-5b69-4040-9696-8061d2501dc7\">\n",
              "  <button class=\"colab-df-quickchart\" onclick=\"quickchart('df-4edaaeda-5b69-4040-9696-8061d2501dc7')\"\n",
              "            title=\"Suggest charts\"\n",
              "            style=\"display:none;\">\n",
              "\n",
              "<svg xmlns=\"http://www.w3.org/2000/svg\" height=\"24px\"viewBox=\"0 0 24 24\"\n",
              "     width=\"24px\">\n",
              "    <g>\n",
              "        <path d=\"M19 3H5c-1.1 0-2 .9-2 2v14c0 1.1.9 2 2 2h14c1.1 0 2-.9 2-2V5c0-1.1-.9-2-2-2zM9 17H7v-7h2v7zm4 0h-2V7h2v10zm4 0h-2v-4h2v4z\"/>\n",
              "    </g>\n",
              "</svg>\n",
              "  </button>\n",
              "\n",
              "<style>\n",
              "  .colab-df-quickchart {\n",
              "      --bg-color: #E8F0FE;\n",
              "      --fill-color: #1967D2;\n",
              "      --hover-bg-color: #E2EBFA;\n",
              "      --hover-fill-color: #174EA6;\n",
              "      --disabled-fill-color: #AAA;\n",
              "      --disabled-bg-color: #DDD;\n",
              "  }\n",
              "\n",
              "  [theme=dark] .colab-df-quickchart {\n",
              "      --bg-color: #3B4455;\n",
              "      --fill-color: #D2E3FC;\n",
              "      --hover-bg-color: #434B5C;\n",
              "      --hover-fill-color: #FFFFFF;\n",
              "      --disabled-bg-color: #3B4455;\n",
              "      --disabled-fill-color: #666;\n",
              "  }\n",
              "\n",
              "  .colab-df-quickchart {\n",
              "    background-color: var(--bg-color);\n",
              "    border: none;\n",
              "    border-radius: 50%;\n",
              "    cursor: pointer;\n",
              "    display: none;\n",
              "    fill: var(--fill-color);\n",
              "    height: 32px;\n",
              "    padding: 0;\n",
              "    width: 32px;\n",
              "  }\n",
              "\n",
              "  .colab-df-quickchart:hover {\n",
              "    background-color: var(--hover-bg-color);\n",
              "    box-shadow: 0 1px 2px rgba(60, 64, 67, 0.3), 0 1px 3px 1px rgba(60, 64, 67, 0.15);\n",
              "    fill: var(--button-hover-fill-color);\n",
              "  }\n",
              "\n",
              "  .colab-df-quickchart-complete:disabled,\n",
              "  .colab-df-quickchart-complete:disabled:hover {\n",
              "    background-color: var(--disabled-bg-color);\n",
              "    fill: var(--disabled-fill-color);\n",
              "    box-shadow: none;\n",
              "  }\n",
              "\n",
              "  .colab-df-spinner {\n",
              "    border: 2px solid var(--fill-color);\n",
              "    border-color: transparent;\n",
              "    border-bottom-color: var(--fill-color);\n",
              "    animation:\n",
              "      spin 1s steps(1) infinite;\n",
              "  }\n",
              "\n",
              "  @keyframes spin {\n",
              "    0% {\n",
              "      border-color: transparent;\n",
              "      border-bottom-color: var(--fill-color);\n",
              "      border-left-color: var(--fill-color);\n",
              "    }\n",
              "    20% {\n",
              "      border-color: transparent;\n",
              "      border-left-color: var(--fill-color);\n",
              "      border-top-color: var(--fill-color);\n",
              "    }\n",
              "    30% {\n",
              "      border-color: transparent;\n",
              "      border-left-color: var(--fill-color);\n",
              "      border-top-color: var(--fill-color);\n",
              "      border-right-color: var(--fill-color);\n",
              "    }\n",
              "    40% {\n",
              "      border-color: transparent;\n",
              "      border-right-color: var(--fill-color);\n",
              "      border-top-color: var(--fill-color);\n",
              "    }\n",
              "    60% {\n",
              "      border-color: transparent;\n",
              "      border-right-color: var(--fill-color);\n",
              "    }\n",
              "    80% {\n",
              "      border-color: transparent;\n",
              "      border-right-color: var(--fill-color);\n",
              "      border-bottom-color: var(--fill-color);\n",
              "    }\n",
              "    90% {\n",
              "      border-color: transparent;\n",
              "      border-bottom-color: var(--fill-color);\n",
              "    }\n",
              "  }\n",
              "</style>\n",
              "\n",
              "  <script>\n",
              "    async function quickchart(key) {\n",
              "      const quickchartButtonEl =\n",
              "        document.querySelector('#' + key + ' button');\n",
              "      quickchartButtonEl.disabled = true;  // To prevent multiple clicks.\n",
              "      quickchartButtonEl.classList.add('colab-df-spinner');\n",
              "      try {\n",
              "        const charts = await google.colab.kernel.invokeFunction(\n",
              "            'suggestCharts', [key], {});\n",
              "      } catch (error) {\n",
              "        console.error('Error during call to suggestCharts:', error);\n",
              "      }\n",
              "      quickchartButtonEl.classList.remove('colab-df-spinner');\n",
              "      quickchartButtonEl.classList.add('colab-df-quickchart-complete');\n",
              "    }\n",
              "    (() => {\n",
              "      let quickchartButtonEl =\n",
              "        document.querySelector('#df-4edaaeda-5b69-4040-9696-8061d2501dc7 button');\n",
              "      quickchartButtonEl.style.display =\n",
              "        google.colab.kernel.accessAllowed ? 'block' : 'none';\n",
              "    })();\n",
              "  </script>\n",
              "</div>\n",
              "\n",
              "  <div id=\"id_4ccceddb-68ef-492c-8279-e2b2d1d88887\">\n",
              "    <style>\n",
              "      .colab-df-generate {\n",
              "        background-color: #E8F0FE;\n",
              "        border: none;\n",
              "        border-radius: 50%;\n",
              "        cursor: pointer;\n",
              "        display: none;\n",
              "        fill: #1967D2;\n",
              "        height: 32px;\n",
              "        padding: 0 0 0 0;\n",
              "        width: 32px;\n",
              "      }\n",
              "\n",
              "      .colab-df-generate:hover {\n",
              "        background-color: #E2EBFA;\n",
              "        box-shadow: 0px 1px 2px rgba(60, 64, 67, 0.3), 0px 1px 3px 1px rgba(60, 64, 67, 0.15);\n",
              "        fill: #174EA6;\n",
              "      }\n",
              "\n",
              "      [theme=dark] .colab-df-generate {\n",
              "        background-color: #3B4455;\n",
              "        fill: #D2E3FC;\n",
              "      }\n",
              "\n",
              "      [theme=dark] .colab-df-generate:hover {\n",
              "        background-color: #434B5C;\n",
              "        box-shadow: 0px 1px 3px 1px rgba(0, 0, 0, 0.15);\n",
              "        filter: drop-shadow(0px 1px 2px rgba(0, 0, 0, 0.3));\n",
              "        fill: #FFFFFF;\n",
              "      }\n",
              "    </style>\n",
              "    <button class=\"colab-df-generate\" onclick=\"generateWithVariable('g')\"\n",
              "            title=\"Generate code using this dataframe.\"\n",
              "            style=\"display:none;\">\n",
              "\n",
              "  <svg xmlns=\"http://www.w3.org/2000/svg\" height=\"24px\"viewBox=\"0 0 24 24\"\n",
              "       width=\"24px\">\n",
              "    <path d=\"M7,19H8.4L18.45,9,17,7.55,7,17.6ZM5,21V16.75L18.45,3.32a2,2,0,0,1,2.83,0l1.4,1.43a1.91,1.91,0,0,1,.58,1.4,1.91,1.91,0,0,1-.58,1.4L9.25,21ZM18.45,9,17,7.55Zm-12,3A5.31,5.31,0,0,0,4.9,8.1,5.31,5.31,0,0,0,1,6.5,5.31,5.31,0,0,0,4.9,4.9,5.31,5.31,0,0,0,6.5,1,5.31,5.31,0,0,0,8.1,4.9,5.31,5.31,0,0,0,12,6.5,5.46,5.46,0,0,0,6.5,12Z\"/>\n",
              "  </svg>\n",
              "    </button>\n",
              "    <script>\n",
              "      (() => {\n",
              "      const buttonEl =\n",
              "        document.querySelector('#id_4ccceddb-68ef-492c-8279-e2b2d1d88887 button.colab-df-generate');\n",
              "      buttonEl.style.display =\n",
              "        google.colab.kernel.accessAllowed ? 'block' : 'none';\n",
              "\n",
              "      buttonEl.onclick = () => {\n",
              "        google.colab.notebook.generateWithVariable('g');\n",
              "      }\n",
              "      })();\n",
              "    </script>\n",
              "  </div>\n",
              "\n",
              "    </div>\n",
              "  </div>\n"
            ]
          },
          "metadata": {},
          "execution_count": 15
        }
      ]
    },
    {
      "cell_type": "code",
      "source": [
        "Crosstab= pd.crosstab(sheet1.Country, sheet1.Class)\n",
        "Crosstab"
      ],
      "metadata": {
        "colab": {
          "base_uri": "https://localhost:8080/",
          "height": 269
        },
        "id": "AYJKqQ3ZnRUl",
        "outputId": "1c5b2a37-4ba3-42d4-a7c6-12e04a7c565b"
      },
      "execution_count": null,
      "outputs": [
        {
          "output_type": "execute_result",
          "data": {
            "text/plain": [
              "Class           AAD  CDI   ND\n",
              "Country                      \n",
              "France            9    0  152\n",
              "Germany          21    7   80\n",
              "Greece            9    1   55\n",
              "Romania           5    5  139\n",
              "Spain            18    1  237\n",
              "TheNetherlands    2    0    6"
            ],
            "text/html": [
              "\n",
              "  <div id=\"df-f93dabef-5753-45c2-85be-71747b6ff671\" class=\"colab-df-container\">\n",
              "    <div>\n",
              "<style scoped>\n",
              "    .dataframe tbody tr th:only-of-type {\n",
              "        vertical-align: middle;\n",
              "    }\n",
              "\n",
              "    .dataframe tbody tr th {\n",
              "        vertical-align: top;\n",
              "    }\n",
              "\n",
              "    .dataframe thead th {\n",
              "        text-align: right;\n",
              "    }\n",
              "</style>\n",
              "<table border=\"1\" class=\"dataframe\">\n",
              "  <thead>\n",
              "    <tr style=\"text-align: right;\">\n",
              "      <th>Class</th>\n",
              "      <th>AAD</th>\n",
              "      <th>CDI</th>\n",
              "      <th>ND</th>\n",
              "    </tr>\n",
              "    <tr>\n",
              "      <th>Country</th>\n",
              "      <th></th>\n",
              "      <th></th>\n",
              "      <th></th>\n",
              "    </tr>\n",
              "  </thead>\n",
              "  <tbody>\n",
              "    <tr>\n",
              "      <th>France</th>\n",
              "      <td>9</td>\n",
              "      <td>0</td>\n",
              "      <td>152</td>\n",
              "    </tr>\n",
              "    <tr>\n",
              "      <th>Germany</th>\n",
              "      <td>21</td>\n",
              "      <td>7</td>\n",
              "      <td>80</td>\n",
              "    </tr>\n",
              "    <tr>\n",
              "      <th>Greece</th>\n",
              "      <td>9</td>\n",
              "      <td>1</td>\n",
              "      <td>55</td>\n",
              "    </tr>\n",
              "    <tr>\n",
              "      <th>Romania</th>\n",
              "      <td>5</td>\n",
              "      <td>5</td>\n",
              "      <td>139</td>\n",
              "    </tr>\n",
              "    <tr>\n",
              "      <th>Spain</th>\n",
              "      <td>18</td>\n",
              "      <td>1</td>\n",
              "      <td>237</td>\n",
              "    </tr>\n",
              "    <tr>\n",
              "      <th>TheNetherlands</th>\n",
              "      <td>2</td>\n",
              "      <td>0</td>\n",
              "      <td>6</td>\n",
              "    </tr>\n",
              "  </tbody>\n",
              "</table>\n",
              "</div>\n",
              "    <div class=\"colab-df-buttons\">\n",
              "\n",
              "  <div class=\"colab-df-container\">\n",
              "    <button class=\"colab-df-convert\" onclick=\"convertToInteractive('df-f93dabef-5753-45c2-85be-71747b6ff671')\"\n",
              "            title=\"Convert this dataframe to an interactive table.\"\n",
              "            style=\"display:none;\">\n",
              "\n",
              "  <svg xmlns=\"http://www.w3.org/2000/svg\" height=\"24px\" viewBox=\"0 -960 960 960\">\n",
              "    <path d=\"M120-120v-720h720v720H120Zm60-500h600v-160H180v160Zm220 220h160v-160H400v160Zm0 220h160v-160H400v160ZM180-400h160v-160H180v160Zm440 0h160v-160H620v160ZM180-180h160v-160H180v160Zm440 0h160v-160H620v160Z\"/>\n",
              "  </svg>\n",
              "    </button>\n",
              "\n",
              "  <style>\n",
              "    .colab-df-container {\n",
              "      display:flex;\n",
              "      gap: 12px;\n",
              "    }\n",
              "\n",
              "    .colab-df-convert {\n",
              "      background-color: #E8F0FE;\n",
              "      border: none;\n",
              "      border-radius: 50%;\n",
              "      cursor: pointer;\n",
              "      display: none;\n",
              "      fill: #1967D2;\n",
              "      height: 32px;\n",
              "      padding: 0 0 0 0;\n",
              "      width: 32px;\n",
              "    }\n",
              "\n",
              "    .colab-df-convert:hover {\n",
              "      background-color: #E2EBFA;\n",
              "      box-shadow: 0px 1px 2px rgba(60, 64, 67, 0.3), 0px 1px 3px 1px rgba(60, 64, 67, 0.15);\n",
              "      fill: #174EA6;\n",
              "    }\n",
              "\n",
              "    .colab-df-buttons div {\n",
              "      margin-bottom: 4px;\n",
              "    }\n",
              "\n",
              "    [theme=dark] .colab-df-convert {\n",
              "      background-color: #3B4455;\n",
              "      fill: #D2E3FC;\n",
              "    }\n",
              "\n",
              "    [theme=dark] .colab-df-convert:hover {\n",
              "      background-color: #434B5C;\n",
              "      box-shadow: 0px 1px 3px 1px rgba(0, 0, 0, 0.15);\n",
              "      filter: drop-shadow(0px 1px 2px rgba(0, 0, 0, 0.3));\n",
              "      fill: #FFFFFF;\n",
              "    }\n",
              "  </style>\n",
              "\n",
              "    <script>\n",
              "      const buttonEl =\n",
              "        document.querySelector('#df-f93dabef-5753-45c2-85be-71747b6ff671 button.colab-df-convert');\n",
              "      buttonEl.style.display =\n",
              "        google.colab.kernel.accessAllowed ? 'block' : 'none';\n",
              "\n",
              "      async function convertToInteractive(key) {\n",
              "        const element = document.querySelector('#df-f93dabef-5753-45c2-85be-71747b6ff671');\n",
              "        const dataTable =\n",
              "          await google.colab.kernel.invokeFunction('convertToInteractive',\n",
              "                                                    [key], {});\n",
              "        if (!dataTable) return;\n",
              "\n",
              "        const docLinkHtml = 'Like what you see? Visit the ' +\n",
              "          '<a target=\"_blank\" href=https://colab.research.google.com/notebooks/data_table.ipynb>data table notebook</a>'\n",
              "          + ' to learn more about interactive tables.';\n",
              "        element.innerHTML = '';\n",
              "        dataTable['output_type'] = 'display_data';\n",
              "        await google.colab.output.renderOutput(dataTable, element);\n",
              "        const docLink = document.createElement('div');\n",
              "        docLink.innerHTML = docLinkHtml;\n",
              "        element.appendChild(docLink);\n",
              "      }\n",
              "    </script>\n",
              "  </div>\n",
              "\n",
              "\n",
              "<div id=\"df-8a7b5abe-5b1a-4acb-a6ec-761dc34997a5\">\n",
              "  <button class=\"colab-df-quickchart\" onclick=\"quickchart('df-8a7b5abe-5b1a-4acb-a6ec-761dc34997a5')\"\n",
              "            title=\"Suggest charts\"\n",
              "            style=\"display:none;\">\n",
              "\n",
              "<svg xmlns=\"http://www.w3.org/2000/svg\" height=\"24px\"viewBox=\"0 0 24 24\"\n",
              "     width=\"24px\">\n",
              "    <g>\n",
              "        <path d=\"M19 3H5c-1.1 0-2 .9-2 2v14c0 1.1.9 2 2 2h14c1.1 0 2-.9 2-2V5c0-1.1-.9-2-2-2zM9 17H7v-7h2v7zm4 0h-2V7h2v10zm4 0h-2v-4h2v4z\"/>\n",
              "    </g>\n",
              "</svg>\n",
              "  </button>\n",
              "\n",
              "<style>\n",
              "  .colab-df-quickchart {\n",
              "      --bg-color: #E8F0FE;\n",
              "      --fill-color: #1967D2;\n",
              "      --hover-bg-color: #E2EBFA;\n",
              "      --hover-fill-color: #174EA6;\n",
              "      --disabled-fill-color: #AAA;\n",
              "      --disabled-bg-color: #DDD;\n",
              "  }\n",
              "\n",
              "  [theme=dark] .colab-df-quickchart {\n",
              "      --bg-color: #3B4455;\n",
              "      --fill-color: #D2E3FC;\n",
              "      --hover-bg-color: #434B5C;\n",
              "      --hover-fill-color: #FFFFFF;\n",
              "      --disabled-bg-color: #3B4455;\n",
              "      --disabled-fill-color: #666;\n",
              "  }\n",
              "\n",
              "  .colab-df-quickchart {\n",
              "    background-color: var(--bg-color);\n",
              "    border: none;\n",
              "    border-radius: 50%;\n",
              "    cursor: pointer;\n",
              "    display: none;\n",
              "    fill: var(--fill-color);\n",
              "    height: 32px;\n",
              "    padding: 0;\n",
              "    width: 32px;\n",
              "  }\n",
              "\n",
              "  .colab-df-quickchart:hover {\n",
              "    background-color: var(--hover-bg-color);\n",
              "    box-shadow: 0 1px 2px rgba(60, 64, 67, 0.3), 0 1px 3px 1px rgba(60, 64, 67, 0.15);\n",
              "    fill: var(--button-hover-fill-color);\n",
              "  }\n",
              "\n",
              "  .colab-df-quickchart-complete:disabled,\n",
              "  .colab-df-quickchart-complete:disabled:hover {\n",
              "    background-color: var(--disabled-bg-color);\n",
              "    fill: var(--disabled-fill-color);\n",
              "    box-shadow: none;\n",
              "  }\n",
              "\n",
              "  .colab-df-spinner {\n",
              "    border: 2px solid var(--fill-color);\n",
              "    border-color: transparent;\n",
              "    border-bottom-color: var(--fill-color);\n",
              "    animation:\n",
              "      spin 1s steps(1) infinite;\n",
              "  }\n",
              "\n",
              "  @keyframes spin {\n",
              "    0% {\n",
              "      border-color: transparent;\n",
              "      border-bottom-color: var(--fill-color);\n",
              "      border-left-color: var(--fill-color);\n",
              "    }\n",
              "    20% {\n",
              "      border-color: transparent;\n",
              "      border-left-color: var(--fill-color);\n",
              "      border-top-color: var(--fill-color);\n",
              "    }\n",
              "    30% {\n",
              "      border-color: transparent;\n",
              "      border-left-color: var(--fill-color);\n",
              "      border-top-color: var(--fill-color);\n",
              "      border-right-color: var(--fill-color);\n",
              "    }\n",
              "    40% {\n",
              "      border-color: transparent;\n",
              "      border-right-color: var(--fill-color);\n",
              "      border-top-color: var(--fill-color);\n",
              "    }\n",
              "    60% {\n",
              "      border-color: transparent;\n",
              "      border-right-color: var(--fill-color);\n",
              "    }\n",
              "    80% {\n",
              "      border-color: transparent;\n",
              "      border-right-color: var(--fill-color);\n",
              "      border-bottom-color: var(--fill-color);\n",
              "    }\n",
              "    90% {\n",
              "      border-color: transparent;\n",
              "      border-bottom-color: var(--fill-color);\n",
              "    }\n",
              "  }\n",
              "</style>\n",
              "\n",
              "  <script>\n",
              "    async function quickchart(key) {\n",
              "      const quickchartButtonEl =\n",
              "        document.querySelector('#' + key + ' button');\n",
              "      quickchartButtonEl.disabled = true;  // To prevent multiple clicks.\n",
              "      quickchartButtonEl.classList.add('colab-df-spinner');\n",
              "      try {\n",
              "        const charts = await google.colab.kernel.invokeFunction(\n",
              "            'suggestCharts', [key], {});\n",
              "      } catch (error) {\n",
              "        console.error('Error during call to suggestCharts:', error);\n",
              "      }\n",
              "      quickchartButtonEl.classList.remove('colab-df-spinner');\n",
              "      quickchartButtonEl.classList.add('colab-df-quickchart-complete');\n",
              "    }\n",
              "    (() => {\n",
              "      let quickchartButtonEl =\n",
              "        document.querySelector('#df-8a7b5abe-5b1a-4acb-a6ec-761dc34997a5 button');\n",
              "      quickchartButtonEl.style.display =\n",
              "        google.colab.kernel.accessAllowed ? 'block' : 'none';\n",
              "    })();\n",
              "  </script>\n",
              "</div>\n",
              "\n",
              "  <div id=\"id_c697f90c-4310-4e58-8d2b-5b4444589aa3\">\n",
              "    <style>\n",
              "      .colab-df-generate {\n",
              "        background-color: #E8F0FE;\n",
              "        border: none;\n",
              "        border-radius: 50%;\n",
              "        cursor: pointer;\n",
              "        display: none;\n",
              "        fill: #1967D2;\n",
              "        height: 32px;\n",
              "        padding: 0 0 0 0;\n",
              "        width: 32px;\n",
              "      }\n",
              "\n",
              "      .colab-df-generate:hover {\n",
              "        background-color: #E2EBFA;\n",
              "        box-shadow: 0px 1px 2px rgba(60, 64, 67, 0.3), 0px 1px 3px 1px rgba(60, 64, 67, 0.15);\n",
              "        fill: #174EA6;\n",
              "      }\n",
              "\n",
              "      [theme=dark] .colab-df-generate {\n",
              "        background-color: #3B4455;\n",
              "        fill: #D2E3FC;\n",
              "      }\n",
              "\n",
              "      [theme=dark] .colab-df-generate:hover {\n",
              "        background-color: #434B5C;\n",
              "        box-shadow: 0px 1px 3px 1px rgba(0, 0, 0, 0.15);\n",
              "        filter: drop-shadow(0px 1px 2px rgba(0, 0, 0, 0.3));\n",
              "        fill: #FFFFFF;\n",
              "      }\n",
              "    </style>\n",
              "    <button class=\"colab-df-generate\" onclick=\"generateWithVariable('Crosstab')\"\n",
              "            title=\"Generate code using this dataframe.\"\n",
              "            style=\"display:none;\">\n",
              "\n",
              "  <svg xmlns=\"http://www.w3.org/2000/svg\" height=\"24px\"viewBox=\"0 0 24 24\"\n",
              "       width=\"24px\">\n",
              "    <path d=\"M7,19H8.4L18.45,9,17,7.55,7,17.6ZM5,21V16.75L18.45,3.32a2,2,0,0,1,2.83,0l1.4,1.43a1.91,1.91,0,0,1,.58,1.4,1.91,1.91,0,0,1-.58,1.4L9.25,21ZM18.45,9,17,7.55Zm-12,3A5.31,5.31,0,0,0,4.9,8.1,5.31,5.31,0,0,0,1,6.5,5.31,5.31,0,0,0,4.9,4.9,5.31,5.31,0,0,0,6.5,1,5.31,5.31,0,0,0,8.1,4.9,5.31,5.31,0,0,0,12,6.5,5.46,5.46,0,0,0,6.5,12Z\"/>\n",
              "  </svg>\n",
              "    </button>\n",
              "    <script>\n",
              "      (() => {\n",
              "      const buttonEl =\n",
              "        document.querySelector('#id_c697f90c-4310-4e58-8d2b-5b4444589aa3 button.colab-df-generate');\n",
              "      buttonEl.style.display =\n",
              "        google.colab.kernel.accessAllowed ? 'block' : 'none';\n",
              "\n",
              "      buttonEl.onclick = () => {\n",
              "        google.colab.notebook.generateWithVariable('Crosstab');\n",
              "      }\n",
              "      })();\n",
              "    </script>\n",
              "  </div>\n",
              "\n",
              "    </div>\n",
              "  </div>\n"
            ]
          },
          "metadata": {},
          "execution_count": 16
        }
      ]
    },
    {
      "cell_type": "code",
      "source": [
        "from scipy.stats import chi2_contingency\n",
        "ChiSqResult= chi2_contingency(Crosstab)\n",
        "print(\"P-value of Chi-Square test=\",ChiSqResult[1])"
      ],
      "metadata": {
        "colab": {
          "base_uri": "https://localhost:8080/"
        },
        "id": "jSTm4k75owVY",
        "outputId": "11ec72e1-40b3-4eb1-c6ce-4f1255e80eaa"
      },
      "execution_count": null,
      "outputs": [
        {
          "output_type": "stream",
          "name": "stdout",
          "text": [
            "P-value of Chi-Square test= 1.7410133734584608e-07\n"
          ]
        }
      ]
    },
    {
      "cell_type": "code",
      "source": [
        "from scipy.stats import chi2_contingency\n",
        "ChiSqResult= chi2_contingency(g)\n",
        "print(\"P-value of Chi-Square test=\",ChiSqResult[1])"
      ],
      "metadata": {
        "colab": {
          "base_uri": "https://localhost:8080/"
        },
        "id": "c1U-6G2xnjpu",
        "outputId": "6117e3d8-aa6d-48fa-e45e-ccc9ca6645ff"
      },
      "execution_count": null,
      "outputs": [
        {
          "output_type": "stream",
          "name": "stdout",
          "text": [
            "P-value of Chi-Square test= 0.18352660706002474\n"
          ]
        }
      ]
    },
    {
      "cell_type": "code",
      "source": [
        "pd.crosstab(sheet1.Gender, sheet1.Class).plot(kind = 'pie',subplots=True);"
      ],
      "metadata": {
        "colab": {
          "base_uri": "https://localhost:8080/",
          "height": 182
        },
        "id": "PL96wDLYoDWJ",
        "outputId": "4ffee91e-2d5f-4e79-8c72-5a59d1df365b"
      },
      "execution_count": null,
      "outputs": [
        {
          "output_type": "display_data",
          "data": {
            "text/plain": [
              "<Figure size 640x480 with 3 Axes>"
            ],
            "image/png": "[encoded data removed]"
          },
          "metadata": {}
        }
      ]
    },
    {
      "cell_type": "code",
      "source": [
        "! pip install category_encoders"
      ],
      "metadata": {
        "colab": {
          "base_uri": "https://localhost:8080/"
        },
        "id": "6CSDZMeuuKRY",
        "outputId": "8f090901-f625-4b5a-cc44-e08274182f23"
      },
      "execution_count": null,
      "outputs": [
        {
          "output_type": "stream",
          "name": "stdout",
          "text": [
            "Collecting category_encoders\n",
            "  Downloading category_encoders-2.6.3-py2.py3-none-any.whl (81 kB)\n",
            "\u001b[?25l     \u001b[90m━━━━━━━━━━━━━━━━━━━━━━━━━━━━━━━━━━━━━━━━\u001b[0m \u001b[32m0.0/81.9 kB\u001b[0m \u001b[31m?\u001b[0m eta \u001b[36m-:--:--\u001b[0m\r\u001b[2K     \u001b[91m━━━━━━━━━━━━━━━━━━━━━━━━━━━━━━━━━━━\u001b[0m\u001b[90m╺\u001b[0m\u001b[90m━━━━\u001b[0m \u001b[32m71.7/81.9 kB\u001b[0m \u001b[31m2.2 MB/s\u001b[0m eta \u001b[36m0:00:01\u001b[0m\r\u001b[2K     \u001b[90m━━━━━━━━━━━━━━━━━━━━━━━━━━━━━━━━━━━━━━━━\u001b[0m \u001b[32m81.9/81.9 kB\u001b[0m \u001b[31m1.9 MB/s\u001b[0m eta \u001b[36m0:00:00\u001b[0m\n",
            "\u001b[?25hRequirement already satisfied: numpy>=1.14.0 in /usr/local/lib/python3.10/dist-packages (from category_encoders) (1.23.5)\n",
            "Requirement already satisfied: scikit-learn>=0.20.0 in /usr/local/lib/python3.10/dist-packages (from category_encoders) (1.2.2)\n",
            "Requirement already satisfied: scipy>=1.0.0 in /usr/local/lib/python3.10/dist-packages (from category_encoders) (1.11.4)\n",
            "Requirement already satisfied: statsmodels>=0.9.0 in /usr/local/lib/python3.10/dist-packages (from category_encoders) (0.14.1)\n",
            "Requirement already satisfied: pandas>=1.0.5 in /usr/local/lib/python3.10/dist-packages (from category_encoders) (1.5.3)\n",
            "Requirement already satisfied: patsy>=0.5.1 in /usr/local/lib/python3.10/dist-packages (from category_encoders) (0.5.4)\n",
            "Requirement already satisfied: python-dateutil>=2.8.1 in /usr/local/lib/python3.10/dist-packages (from pandas>=1.0.5->category_encoders) (2.8.2)\n",
            "Requirement already satisfied: pytz>=2020.1 in /usr/local/lib/python3.10/dist-packages (from pandas>=1.0.5->category_encoders) (2023.3.post1)\n",
            "Requirement already satisfied: six in /usr/local/lib/python3.10/dist-packages (from patsy>=0.5.1->category_encoders) (1.16.0)\n",
            "Requirement already satisfied: joblib>=1.1.1 in /usr/local/lib/python3.10/dist-packages (from scikit-learn>=0.20.0->category_encoders) (1.3.2)\n",
            "Requirement already satisfied: threadpoolctl>=2.0.0 in /usr/local/lib/python3.10/dist-packages (from scikit-learn>=0.20.0->category_encoders) (3.2.0)\n",
            "Requirement already satisfied: packaging>=21.3 in /usr/local/lib/python3.10/dist-packages (from statsmodels>=0.9.0->category_encoders) (23.2)\n",
            "Installing collected packages: category_encoders\n",
            "Successfully installed category_encoders-2.6.3\n"
          ]
        }
      ]
    },
    {
      "cell_type": "code",
      "source": [
        "from sklearn.preprocessing import LabelEncoder\n",
        "\n",
        "# Perform label encoding\n",
        "label_encoder = LabelEncoder()\n",
        "sheet1['Class'] = label_encoder.fit_transform(sheet1['Class'])\n",
        "# Create a dictionary mapping encoded values to original labels\n",
        "Class_dictionary = dict(zip(label_encoder.classes_, label_encoder.transform(label_encoder.classes_)))\n",
        "sheet1['Country'] = label_encoder.fit_transform(sheet1['Country'])\n",
        "Country_dictionary = dict(zip(label_encoder.classes_, label_encoder.transform(label_encoder.classes_)))\n",
        "sheet1['Gender'] = label_encoder.fit_transform(sheet1['Gender'])\n",
        "Gender_dictionary = dict(zip(label_encoder.classes_, label_encoder.transform(label_encoder.classes_)))\n",
        "\n",
        "# Display the dictionary\n",
        "print(Class_dictionary)"
      ],
      "metadata": {
        "colab": {
          "base_uri": "https://localhost:8080/"
        },
        "id": "FJA0h3Lx2Eem",
        "outputId": "132b14a7-214f-4428-de03-c00204eb5799"
      },
      "execution_count": null,
      "outputs": [
        {
          "output_type": "stream",
          "name": "stdout",
          "text": [
            "{'AAD': 0, 'CDI': 1, 'ND': 2}\n"
          ]
        }
      ]
    },
    {
      "cell_type": "code",
      "source": [
        "print(Country_dictionary)\n",
        "print(Gender_dictionary)"
      ],
      "metadata": {
        "colab": {
          "base_uri": "https://localhost:8080/"
        },
        "id": "9_jqr4mV5ZyU",
        "outputId": "519d8f78-ad48-44b4-cc9c-86abcd07c3bd"
      },
      "execution_count": null,
      "outputs": [
        {
          "output_type": "stream",
          "name": "stdout",
          "text": [
            "{'France': 0, 'Germany': 1, 'Greece': 2, 'Romania': 3, 'Spain': 4, 'TheNetherlands': 5}\n",
            "{'F': 0, 'M': 1}\n"
          ]
        }
      ]
    },
    {
      "cell_type": "code",
      "source": [
        "sheet1"
      ],
      "metadata": {
        "colab": {
          "base_uri": "https://localhost:8080/",
          "height": 443
        },
        "id": "vFmDeWkp5jy1",
        "outputId": "e22db0da-27f5-4840-976e-d517e9b5c272"
      },
      "execution_count": null,
      "outputs": [
        {
          "output_type": "execute_result",
          "data": {
            "text/plain": [
              "     Clostridium_XI_Otu12  Klebsiella_Otu4  Staphylococcus_Otu3  \\\n",
              "0                0.000000         0.000067             0.000000   \n",
              "1                0.000000         0.000000             0.000000   \n",
              "2                0.000067         0.000000             0.000000   \n",
              "3                0.000000         0.000000             0.000000   \n",
              "4                0.000000         0.000000             0.001000   \n",
              "..                    ...              ...                  ...   \n",
              "742              0.000000         0.000000             0.000000   \n",
              "743              0.000133         0.000000             0.000333   \n",
              "744              0.000000         0.000000             0.000000   \n",
              "745              0.000000         0.005867             0.000000   \n",
              "746              0.000000         0.001200             0.000267   \n",
              "\n",
              "     Escherichia/Shigella_Otu2  Enterococcus_Otu1  Streptococcus_Otu8  \\\n",
              "0                     0.027667           0.000000            0.001000   \n",
              "1                     0.000000           0.000000            0.000000   \n",
              "2                     0.001000           0.000000            0.000067   \n",
              "3                     0.000000           0.000000            0.000133   \n",
              "4                     0.000067           0.000000            0.000000   \n",
              "..                         ...                ...                 ...   \n",
              "742                   0.295733           0.010533            0.000000   \n",
              "743                   0.000000           0.000267            0.000933   \n",
              "744                   0.018867           0.000133            0.000133   \n",
              "745                   0.003733           0.000333            0.000600   \n",
              "746                   0.002200           0.005667            0.000200   \n",
              "\n",
              "     Sphingomonas_Otu5  Finegoldia_Otu9  Ruminococcaceae_unclassified_Otu11  \\\n",
              "0             0.000067         0.061267                            0.000000   \n",
              "1             0.000933         0.000200                            0.000000   \n",
              "2             0.000000         0.024000                            0.000133   \n",
              "3             0.000000         0.047400                            0.000067   \n",
              "4             0.000000         0.036467                            0.000000   \n",
              "..                 ...              ...                                 ...   \n",
              "742           0.000800         0.354667                            0.000000   \n",
              "743           0.000000         0.066400                            0.007333   \n",
              "744           0.000000         0.037333                            0.000000   \n",
              "745           0.000800         0.091533                            0.004533   \n",
              "746           0.000000         0.010867                            0.000133   \n",
              "\n",
              "     Prevotella_Otu7  ...  Finegoldia_Otu20269  Finegoldia_Otu20304  \\\n",
              "0           0.016400  ...                  0.0                  0.0   \n",
              "1           0.000600  ...                  0.0                  0.0   \n",
              "2           0.126333  ...                  0.0                  0.0   \n",
              "3           0.001333  ...                  0.0                  0.0   \n",
              "4           0.000067  ...                  0.0                  0.0   \n",
              "..               ...  ...                  ...                  ...   \n",
              "742         0.000000  ...                  0.0                  0.0   \n",
              "743         0.000133  ...                  0.0                  0.0   \n",
              "744         0.001200  ...                  0.0                  0.0   \n",
              "745         0.000133  ...                  0.0                  0.0   \n",
              "746         0.000000  ...                  0.0                  0.0   \n",
              "\n",
              "     Finegoldia_Otu20307  Finegoldia_Otu20311  Finegoldia_Otu20314  \\\n",
              "0                    0.0                  0.0                  0.0   \n",
              "1                    0.0                  0.0                  0.0   \n",
              "2                    0.0                  0.0                  0.0   \n",
              "3                    0.0                  0.0                  0.0   \n",
              "4                    0.0                  0.0                  0.0   \n",
              "..                   ...                  ...                  ...   \n",
              "742                  0.0                  0.0                  0.0   \n",
              "743                  0.0                  0.0                  0.0   \n",
              "744                  0.0                  0.0                  0.0   \n",
              "745                  0.0                  0.0                  0.0   \n",
              "746                  0.0                  0.0                  0.0   \n",
              "\n",
              "     Acinetobacter_Otu20318  Finegoldia_Otu20320  Country  Gender  Class  \n",
              "0                       0.0                  0.0        4       1      2  \n",
              "1                       0.0                  0.0        4       1      2  \n",
              "2                       0.0                  0.0        1       1      1  \n",
              "3                       0.0                  0.0        2       0      2  \n",
              "4                       0.0                  0.0        4       1      2  \n",
              "..                      ...                  ...      ...     ...    ...  \n",
              "742                     0.0                  0.0        1       1      2  \n",
              "743                     0.0                  0.0        1       1      2  \n",
              "744                     0.0                  0.0        4       1      2  \n",
              "745                     0.0                  0.0        4       1      2  \n",
              "746                     0.0                  0.0        1       0      2  \n",
              "\n",
              "[747 rows x 5917 columns]"
            ],
            "text/html": [
              "\n",
              "  <div id=\"df-a2ed3efb-9bcb-45cd-91c2-202251d7522b\" class=\"colab-df-container\">\n",
              "    <div>\n",
              "<style scoped>\n",
              "    .dataframe tbody tr th:only-of-type {\n",
              "        vertical-align: middle;\n",
              "    }\n",
              "\n",
              "    .dataframe tbody tr th {\n",
              "        vertical-align: top;\n",
              "    }\n",
              "\n",
              "    .dataframe thead th {\n",
              "        text-align: right;\n",
              "    }\n",
              "</style>\n",
              "<table border=\"1\" class=\"dataframe\">\n",
              "  <thead>\n",
              "    <tr style=\"text-align: right;\">\n",
              "      <th></th>\n",
              "      <th>Clostridium_XI_Otu12</th>\n",
              "      <th>Klebsiella_Otu4</th>\n",
              "      <th>Staphylococcus_Otu3</th>\n",
              "      <th>Escherichia/Shigella_Otu2</th>\n",
              "      <th>Enterococcus_Otu1</th>\n",
              "      <th>Streptococcus_Otu8</th>\n",
              "      <th>Sphingomonas_Otu5</th>\n",
              "      <th>Finegoldia_Otu9</th>\n",
              "      <th>Ruminococcaceae_unclassified_Otu11</th>\n",
              "      <th>Prevotella_Otu7</th>\n",
              "      <th>...</th>\n",
              "      <th>Finegoldia_Otu20269</th>\n",
              "      <th>Finegoldia_Otu20304</th>\n",
              "      <th>Finegoldia_Otu20307</th>\n",
              "      <th>Finegoldia_Otu20311</th>\n",
              "      <th>Finegoldia_Otu20314</th>\n",
              "      <th>Acinetobacter_Otu20318</th>\n",
              "      <th>Finegoldia_Otu20320</th>\n",
              "      <th>Country</th>\n",
              "      <th>Gender</th>\n",
              "      <th>Class</th>\n",
              "    </tr>\n",
              "  </thead>\n",
              "  <tbody>\n",
              "    <tr>\n",
              "      <th>0</th>\n",
              "      <td>0.000000</td>\n",
              "      <td>0.000067</td>\n",
              "      <td>0.000000</td>\n",
              "      <td>0.027667</td>\n",
              "      <td>0.000000</td>\n",
              "      <td>0.001000</td>\n",
              "      <td>0.000067</td>\n",
              "      <td>0.061267</td>\n",
              "      <td>0.000000</td>\n",
              "      <td>0.016400</td>\n",
              "      <td>...</td>\n",
              "      <td>0.0</td>\n",
              "      <td>0.0</td>\n",
              "      <td>0.0</td>\n",
              "      <td>0.0</td>\n",
              "      <td>0.0</td>\n",
              "      <td>0.0</td>\n",
              "      <td>0.0</td>\n",
              "      <td>4</td>\n",
              "      <td>1</td>\n",
              "      <td>2</td>\n",
              "    </tr>\n",
              "    <tr>\n",
              "      <th>1</th>\n",
              "      <td>0.000000</td>\n",
              "      <td>0.000000</td>\n",
              "      <td>0.000000</td>\n",
              "      <td>0.000000</td>\n",
              "      <td>0.000000</td>\n",
              "      <td>0.000000</td>\n",
              "      <td>0.000933</td>\n",
              "      <td>0.000200</td>\n",
              "      <td>0.000000</td>\n",
              "      <td>0.000600</td>\n",
              "      <td>...</td>\n",
              "      <td>0.0</td>\n",
              "      <td>0.0</td>\n",
              "      <td>0.0</td>\n",
              "      <td>0.0</td>\n",
              "      <td>0.0</td>\n",
              "      <td>0.0</td>\n",
              "      <td>0.0</td>\n",
              "      <td>4</td>\n",
              "      <td>1</td>\n",
              "      <td>2</td>\n",
              "    </tr>\n",
              "    <tr>\n",
              "      <th>2</th>\n",
              "      <td>0.000067</td>\n",
              "      <td>0.000000</td>\n",
              "      <td>0.000000</td>\n",
              "      <td>0.001000</td>\n",
              "      <td>0.000000</td>\n",
              "      <td>0.000067</td>\n",
              "      <td>0.000000</td>\n",
              "      <td>0.024000</td>\n",
              "      <td>0.000133</td>\n",
              "      <td>0.126333</td>\n",
              "      <td>...</td>\n",
              "      <td>0.0</td>\n",
              "      <td>0.0</td>\n",
              "      <td>0.0</td>\n",
              "      <td>0.0</td>\n",
              "      <td>0.0</td>\n",
              "      <td>0.0</td>\n",
              "      <td>0.0</td>\n",
              "      <td>1</td>\n",
              "      <td>1</td>\n",
              "      <td>1</td>\n",
              "    </tr>\n",
              "    <tr>\n",
              "      <th>3</th>\n",
              "      <td>0.000000</td>\n",
              "      <td>0.000000</td>\n",
              "      <td>0.000000</td>\n",
              "      <td>0.000000</td>\n",
              "      <td>0.000000</td>\n",
              "      <td>0.000133</td>\n",
              "      <td>0.000000</td>\n",
              "      <td>0.047400</td>\n",
              "      <td>0.000067</td>\n",
              "      <td>0.001333</td>\n",
              "      <td>...</td>\n",
              "      <td>0.0</td>\n",
              "      <td>0.0</td>\n",
              "      <td>0.0</td>\n",
              "      <td>0.0</td>\n",
              "      <td>0.0</td>\n",
              "      <td>0.0</td>\n",
              "      <td>0.0</td>\n",
              "      <td>2</td>\n",
              "      <td>0</td>\n",
              "      <td>2</td>\n",
              "    </tr>\n",
              "    <tr>\n",
              "      <th>4</th>\n",
              "      <td>0.000000</td>\n",
              "      <td>0.000000</td>\n",
              "      <td>0.001000</td>\n",
              "      <td>0.000067</td>\n",
              "      <td>0.000000</td>\n",
              "      <td>0.000000</td>\n",
              "      <td>0.000000</td>\n",
              "      <td>0.036467</td>\n",
              "      <td>0.000000</td>\n",
              "      <td>0.000067</td>\n",
              "      <td>...</td>\n",
              "      <td>0.0</td>\n",
              "      <td>0.0</td>\n",
              "      <td>0.0</td>\n",
              "      <td>0.0</td>\n",
              "      <td>0.0</td>\n",
              "      <td>0.0</td>\n",
              "      <td>0.0</td>\n",
              "      <td>4</td>\n",
              "      <td>1</td>\n",
              "      <td>2</td>\n",
              "    </tr>\n",
              "    <tr>\n",
              "      <th>...</th>\n",
              "      <td>...</td>\n",
              "      <td>...</td>\n",
              "      <td>...</td>\n",
              "      <td>...</td>\n",
              "      <td>...</td>\n",
              "      <td>...</td>\n",
              "      <td>...</td>\n",
              "      <td>...</td>\n",
              "      <td>...</td>\n",
              "      <td>...</td>\n",
              "      <td>...</td>\n",
              "      <td>...</td>\n",
              "      <td>...</td>\n",
              "      <td>...</td>\n",
              "      <td>...</td>\n",
              "      <td>...</td>\n",
              "      <td>...</td>\n",
              "      <td>...</td>\n",
              "      <td>...</td>\n",
              "      <td>...</td>\n",
              "      <td>...</td>\n",
              "    </tr>\n",
              "    <tr>\n",
              "      <th>742</th>\n",
              "      <td>0.000000</td>\n",
              "      <td>0.000000</td>\n",
              "      <td>0.000000</td>\n",
              "      <td>0.295733</td>\n",
              "      <td>0.010533</td>\n",
              "      <td>0.000000</td>\n",
              "      <td>0.000800</td>\n",
              "      <td>0.354667</td>\n",
              "      <td>0.000000</td>\n",
              "      <td>0.000000</td>\n",
              "      <td>...</td>\n",
              "      <td>0.0</td>\n",
              "      <td>0.0</td>\n",
              "      <td>0.0</td>\n",
              "      <td>0.0</td>\n",
              "      <td>0.0</td>\n",
              "      <td>0.0</td>\n",
              "      <td>0.0</td>\n",
              "      <td>1</td>\n",
              "      <td>1</td>\n",
              "      <td>2</td>\n",
              "    </tr>\n",
              "    <tr>\n",
              "      <th>743</th>\n",
              "      <td>0.000133</td>\n",
              "      <td>0.000000</td>\n",
              "      <td>0.000333</td>\n",
              "      <td>0.000000</td>\n",
              "      <td>0.000267</td>\n",
              "      <td>0.000933</td>\n",
              "      <td>0.000000</td>\n",
              "      <td>0.066400</td>\n",
              "      <td>0.007333</td>\n",
              "      <td>0.000133</td>\n",
              "      <td>...</td>\n",
              "      <td>0.0</td>\n",
              "      <td>0.0</td>\n",
              "      <td>0.0</td>\n",
              "      <td>0.0</td>\n",
              "      <td>0.0</td>\n",
              "      <td>0.0</td>\n",
              "      <td>0.0</td>\n",
              "      <td>1</td>\n",
              "      <td>1</td>\n",
              "      <td>2</td>\n",
              "    </tr>\n",
              "    <tr>\n",
              "      <th>744</th>\n",
              "      <td>0.000000</td>\n",
              "      <td>0.000000</td>\n",
              "      <td>0.000000</td>\n",
              "      <td>0.018867</td>\n",
              "      <td>0.000133</td>\n",
              "      <td>0.000133</td>\n",
              "      <td>0.000000</td>\n",
              "      <td>0.037333</td>\n",
              "      <td>0.000000</td>\n",
              "      <td>0.001200</td>\n",
              "      <td>...</td>\n",
              "      <td>0.0</td>\n",
              "      <td>0.0</td>\n",
              "      <td>0.0</td>\n",
              "      <td>0.0</td>\n",
              "      <td>0.0</td>\n",
              "      <td>0.0</td>\n",
              "      <td>0.0</td>\n",
              "      <td>4</td>\n",
              "      <td>1</td>\n",
              "      <td>2</td>\n",
              "    </tr>\n",
              "    <tr>\n",
              "      <th>745</th>\n",
              "      <td>0.000000</td>\n",
              "      <td>0.005867</td>\n",
              "      <td>0.000000</td>\n",
              "      <td>0.003733</td>\n",
              "      <td>0.000333</td>\n",
              "      <td>0.000600</td>\n",
              "      <td>0.000800</td>\n",
              "      <td>0.091533</td>\n",
              "      <td>0.004533</td>\n",
              "      <td>0.000133</td>\n",
              "      <td>...</td>\n",
              "      <td>0.0</td>\n",
              "      <td>0.0</td>\n",
              "      <td>0.0</td>\n",
              "      <td>0.0</td>\n",
              "      <td>0.0</td>\n",
              "      <td>0.0</td>\n",
              "      <td>0.0</td>\n",
              "      <td>4</td>\n",
              "      <td>1</td>\n",
              "      <td>2</td>\n",
              "    </tr>\n",
              "    <tr>\n",
              "      <th>746</th>\n",
              "      <td>0.000000</td>\n",
              "      <td>0.001200</td>\n",
              "      <td>0.000267</td>\n",
              "      <td>0.002200</td>\n",
              "      <td>0.005667</td>\n",
              "      <td>0.000200</td>\n",
              "      <td>0.000000</td>\n",
              "      <td>0.010867</td>\n",
              "      <td>0.000133</td>\n",
              "      <td>0.000000</td>\n",
              "      <td>...</td>\n",
              "      <td>0.0</td>\n",
              "      <td>0.0</td>\n",
              "      <td>0.0</td>\n",
              "      <td>0.0</td>\n",
              "      <td>0.0</td>\n",
              "      <td>0.0</td>\n",
              "      <td>0.0</td>\n",
              "      <td>1</td>\n",
              "      <td>0</td>\n",
              "      <td>2</td>\n",
              "    </tr>\n",
              "  </tbody>\n",
              "</table>\n",
              "<p>747 rows × 5917 columns</p>\n",
              "</div>\n",
              "    <div class=\"colab-df-buttons\">\n",
              "\n",
              "  <div class=\"colab-df-container\">\n",
              "    <button class=\"colab-df-convert\" onclick=\"convertToInteractive('df-a2ed3efb-9bcb-45cd-91c2-202251d7522b')\"\n",
              "            title=\"Convert this dataframe to an interactive table.\"\n",
              "            style=\"display:none;\">\n",
              "\n",
              "  <svg xmlns=\"http://www.w3.org/2000/svg\" height=\"24px\" viewBox=\"0 -960 960 960\">\n",
              "    <path d=\"M120-120v-720h720v720H120Zm60-500h600v-160H180v160Zm220 220h160v-160H400v160Zm0 220h160v-160H400v160ZM180-400h160v-160H180v160Zm440 0h160v-160H620v160ZM180-180h160v-160H180v160Zm440 0h160v-160H620v160Z\"/>\n",
              "  </svg>\n",
              "    </button>\n",
              "\n",
              "  <style>\n",
              "    .colab-df-container {\n",
              "      display:flex;\n",
              "      gap: 12px;\n",
              "    }\n",
              "\n",
              "    .colab-df-convert {\n",
              "      background-color: #E8F0FE;\n",
              "      border: none;\n",
              "      border-radius: 50%;\n",
              "      cursor: pointer;\n",
              "      display: none;\n",
              "      fill: #1967D2;\n",
              "      height: 32px;\n",
              "      padding: 0 0 0 0;\n",
              "      width: 32px;\n",
              "    }\n",
              "\n",
              "    .colab-df-convert:hover {\n",
              "      background-color: #E2EBFA;\n",
              "      box-shadow: 0px 1px 2px rgba(60, 64, 67, 0.3), 0px 1px 3px 1px rgba(60, 64, 67, 0.15);\n",
              "      fill: #174EA6;\n",
              "    }\n",
              "\n",
              "    .colab-df-buttons div {\n",
              "      margin-bottom: 4px;\n",
              "    }\n",
              "\n",
              "    [theme=dark] .colab-df-convert {\n",
              "      background-color: #3B4455;\n",
              "      fill: #D2E3FC;\n",
              "    }\n",
              "\n",
              "    [theme=dark] .colab-df-convert:hover {\n",
              "      background-color: #434B5C;\n",
              "      box-shadow: 0px 1px 3px 1px rgba(0, 0, 0, 0.15);\n",
              "      filter: drop-shadow(0px 1px 2px rgba(0, 0, 0, 0.3));\n",
              "      fill: #FFFFFF;\n",
              "    }\n",
              "  </style>\n",
              "\n",
              "    <script>\n",
              "      const buttonEl =\n",
              "        document.querySelector('#df-a2ed3efb-9bcb-45cd-91c2-202251d7522b button.colab-df-convert');\n",
              "      buttonEl.style.display =\n",
              "        google.colab.kernel.accessAllowed ? 'block' : 'none';\n",
              "\n",
              "      async function convertToInteractive(key) {\n",
              "        const element = document.querySelector('#df-a2ed3efb-9bcb-45cd-91c2-202251d7522b');\n",
              "        const dataTable =\n",
              "          await google.colab.kernel.invokeFunction('convertToInteractive',\n",
              "                                                    [key], {});\n",
              "        if (!dataTable) return;\n",
              "\n",
              "        const docLinkHtml = 'Like what you see? Visit the ' +\n",
              "          '<a target=\"_blank\" href=https://colab.research.google.com/notebooks/data_table.ipynb>data table notebook</a>'\n",
              "          + ' to learn more about interactive tables.';\n",
              "        element.innerHTML = '';\n",
              "        dataTable['output_type'] = 'display_data';\n",
              "        await google.colab.output.renderOutput(dataTable, element);\n",
              "        const docLink = document.createElement('div');\n",
              "        docLink.innerHTML = docLinkHtml;\n",
              "        element.appendChild(docLink);\n",
              "      }\n",
              "    </script>\n",
              "  </div>\n",
              "\n",
              "\n",
              "<div id=\"df-748960a1-239e-4a65-b86e-f8a82dbda4f8\">\n",
              "  <button class=\"colab-df-quickchart\" onclick=\"quickchart('df-748960a1-239e-4a65-b86e-f8a82dbda4f8')\"\n",
              "            title=\"Suggest charts\"\n",
              "            style=\"display:none;\">\n",
              "\n",
              "<svg xmlns=\"http://www.w3.org/2000/svg\" height=\"24px\"viewBox=\"0 0 24 24\"\n",
              "     width=\"24px\">\n",
              "    <g>\n",
              "        <path d=\"M19 3H5c-1.1 0-2 .9-2 2v14c0 1.1.9 2 2 2h14c1.1 0 2-.9 2-2V5c0-1.1-.9-2-2-2zM9 17H7v-7h2v7zm4 0h-2V7h2v10zm4 0h-2v-4h2v4z\"/>\n",
              "    </g>\n",
              "</svg>\n",
              "  </button>\n",
              "\n",
              "<style>\n",
              "  .colab-df-quickchart {\n",
              "      --bg-color: #E8F0FE;\n",
              "      --fill-color: #1967D2;\n",
              "      --hover-bg-color: #E2EBFA;\n",
              "      --hover-fill-color: #174EA6;\n",
              "      --disabled-fill-color: #AAA;\n",
              "      --disabled-bg-color: #DDD;\n",
              "  }\n",
              "\n",
              "  [theme=dark] .colab-df-quickchart {\n",
              "      --bg-color: #3B4455;\n",
              "      --fill-color: #D2E3FC;\n",
              "      --hover-bg-color: #434B5C;\n",
              "      --hover-fill-color: #FFFFFF;\n",
              "      --disabled-bg-color: #3B4455;\n",
              "      --disabled-fill-color: #666;\n",
              "  }\n",
              "\n",
              "  .colab-df-quickchart {\n",
              "    background-color: var(--bg-color);\n",
              "    border: none;\n",
              "    border-radius: 50%;\n",
              "    cursor: pointer;\n",
              "    display: none;\n",
              "    fill: var(--fill-color);\n",
              "    height: 32px;\n",
              "    padding: 0;\n",
              "    width: 32px;\n",
              "  }\n",
              "\n",
              "  .colab-df-quickchart:hover {\n",
              "    background-color: var(--hover-bg-color);\n",
              "    box-shadow: 0 1px 2px rgba(60, 64, 67, 0.3), 0 1px 3px 1px rgba(60, 64, 67, 0.15);\n",
              "    fill: var(--button-hover-fill-color);\n",
              "  }\n",
              "\n",
              "  .colab-df-quickchart-complete:disabled,\n",
              "  .colab-df-quickchart-complete:disabled:hover {\n",
              "    background-color: var(--disabled-bg-color);\n",
              "    fill: var(--disabled-fill-color);\n",
              "    box-shadow: none;\n",
              "  }\n",
              "\n",
              "  .colab-df-spinner {\n",
              "    border: 2px solid var(--fill-color);\n",
              "    border-color: transparent;\n",
              "    border-bottom-color: var(--fill-color);\n",
              "    animation:\n",
              "      spin 1s steps(1) infinite;\n",
              "  }\n",
              "\n",
              "  @keyframes spin {\n",
              "    0% {\n",
              "      border-color: transparent;\n",
              "      border-bottom-color: var(--fill-color);\n",
              "      border-left-color: var(--fill-color);\n",
              "    }\n",
              "    20% {\n",
              "      border-color: transparent;\n",
              "      border-left-color: var(--fill-color);\n",
              "      border-top-color: var(--fill-color);\n",
              "    }\n",
              "    30% {\n",
              "      border-color: transparent;\n",
              "      border-left-color: var(--fill-color);\n",
              "      border-top-color: var(--fill-color);\n",
              "      border-right-color: var(--fill-color);\n",
              "    }\n",
              "    40% {\n",
              "      border-color: transparent;\n",
              "      border-right-color: var(--fill-color);\n",
              "      border-top-color: var(--fill-color);\n",
              "    }\n",
              "    60% {\n",
              "      border-color: transparent;\n",
              "      border-right-color: var(--fill-color);\n",
              "    }\n",
              "    80% {\n",
              "      border-color: transparent;\n",
              "      border-right-color: var(--fill-color);\n",
              "      border-bottom-color: var(--fill-color);\n",
              "    }\n",
              "    90% {\n",
              "      border-color: transparent;\n",
              "      border-bottom-color: var(--fill-color);\n",
              "    }\n",
              "  }\n",
              "</style>\n",
              "\n",
              "  <script>\n",
              "    async function quickchart(key) {\n",
              "      const quickchartButtonEl =\n",
              "        document.querySelector('#' + key + ' button');\n",
              "      quickchartButtonEl.disabled = true;  // To prevent multiple clicks.\n",
              "      quickchartButtonEl.classList.add('colab-df-spinner');\n",
              "      try {\n",
              "        const charts = await google.colab.kernel.invokeFunction(\n",
              "            'suggestCharts', [key], {});\n",
              "      } catch (error) {\n",
              "        console.error('Error during call to suggestCharts:', error);\n",
              "      }\n",
              "      quickchartButtonEl.classList.remove('colab-df-spinner');\n",
              "      quickchartButtonEl.classList.add('colab-df-quickchart-complete');\n",
              "    }\n",
              "    (() => {\n",
              "      let quickchartButtonEl =\n",
              "        document.querySelector('#df-748960a1-239e-4a65-b86e-f8a82dbda4f8 button');\n",
              "      quickchartButtonEl.style.display =\n",
              "        google.colab.kernel.accessAllowed ? 'block' : 'none';\n",
              "    })();\n",
              "  </script>\n",
              "</div>\n",
              "\n",
              "  <div id=\"id_bd55abfb-7170-447c-8ce8-973f54c00c04\">\n",
              "    <style>\n",
              "      .colab-df-generate {\n",
              "        background-color: #E8F0FE;\n",
              "        border: none;\n",
              "        border-radius: 50%;\n",
              "        cursor: pointer;\n",
              "        display: none;\n",
              "        fill: #1967D2;\n",
              "        height: 32px;\n",
              "        padding: 0 0 0 0;\n",
              "        width: 32px;\n",
              "      }\n",
              "\n",
              "      .colab-df-generate:hover {\n",
              "        background-color: #E2EBFA;\n",
              "        box-shadow: 0px 1px 2px rgba(60, 64, 67, 0.3), 0px 1px 3px 1px rgba(60, 64, 67, 0.15);\n",
              "        fill: #174EA6;\n",
              "      }\n",
              "\n",
              "      [theme=dark] .colab-df-generate {\n",
              "        background-color: #3B4455;\n",
              "        fill: #D2E3FC;\n",
              "      }\n",
              "\n",
              "      [theme=dark] .colab-df-generate:hover {\n",
              "        background-color: #434B5C;\n",
              "        box-shadow: 0px 1px 3px 1px rgba(0, 0, 0, 0.15);\n",
              "        filter: drop-shadow(0px 1px 2px rgba(0, 0, 0, 0.3));\n",
              "        fill: #FFFFFF;\n",
              "      }\n",
              "    </style>\n",
              "    <button class=\"colab-df-generate\" onclick=\"generateWithVariable('sheet1')\"\n",
              "            title=\"Generate code using this dataframe.\"\n",
              "            style=\"display:none;\">\n",
              "\n",
              "  <svg xmlns=\"http://www.w3.org/2000/svg\" height=\"24px\"viewBox=\"0 0 24 24\"\n",
              "       width=\"24px\">\n",
              "    <path d=\"M7,19H8.4L18.45,9,17,7.55,7,17.6ZM5,21V16.75L18.45,3.32a2,2,0,0,1,2.83,0l1.4,1.43a1.91,1.91,0,0,1,.58,1.4,1.91,1.91,0,0,1-.58,1.4L9.25,21ZM18.45,9,17,7.55Zm-12,3A5.31,5.31,0,0,0,4.9,8.1,5.31,5.31,0,0,0,1,6.5,5.31,5.31,0,0,0,4.9,4.9,5.31,5.31,0,0,0,6.5,1,5.31,5.31,0,0,0,8.1,4.9,5.31,5.31,0,0,0,12,6.5,5.46,5.46,0,0,0,6.5,12Z\"/>\n",
              "  </svg>\n",
              "    </button>\n",
              "    <script>\n",
              "      (() => {\n",
              "      const buttonEl =\n",
              "        document.querySelector('#id_bd55abfb-7170-447c-8ce8-973f54c00c04 button.colab-df-generate');\n",
              "      buttonEl.style.display =\n",
              "        google.colab.kernel.accessAllowed ? 'block' : 'none';\n",
              "\n",
              "      buttonEl.onclick = () => {\n",
              "        google.colab.notebook.generateWithVariable('sheet1');\n",
              "      }\n",
              "      })();\n",
              "    </script>\n",
              "  </div>\n",
              "\n",
              "    </div>\n",
              "  </div>\n"
            ]
          },
          "metadata": {},
          "execution_count": 23
        }
      ]
    },
    {
      "cell_type": "code",
      "source": [
        "import matplotlib.pyplot as plt\n",
        "import pandas as pd\n",
        "import numpy as np\n",
        "from sklearn.tree import DecisionTreeClassifier\n",
        "from sklearn.model_selection import train_test_split, cross_val_score\n",
        "from sklearn.utils.class_weight import compute_class_weight\n",
        "from sklearn.metrics import accuracy_score\n",
        "from sklearn.model_selection import StratifiedKFold\n",
        "from sklearn.metrics import classification_report\n",
        "from sklearn.metrics import confusion_matrix\n",
        "from sklearn import tree"
      ],
      "metadata": {
        "id": "RZFPPa36ZUpQ"
      },
      "execution_count": null,
      "outputs": []
    },
    {
      "cell_type": "code",
      "source": [
        "# Define the quantile threshold (e.g., 75%)\n",
        "quantile_threshold = 0.75\n",
        "\n",
        "# Calculate the variance of each feature\n",
        "variances = sheet1.var()\n",
        "\n",
        "# Identify features with variances below the quantile threshold\n",
        "low_variance_features = variances[variances < np.quantile(variances, quantile_threshold)].index\n",
        "\n",
        "# Drop low variance features from the DataFrame\n",
        "df = sheet1.drop(columns=low_variance_features)\n",
        "\n",
        "# Display the resulting DataFrame\n",
        "print(\"Original DataFrame:\")\n",
        "print(sheet1.shape)\n",
        "\n",
        "print(\"\\nDataFrame after dropping low variance features:\")\n",
        "print(df.shape)"
      ],
      "metadata": {
        "colab": {
          "base_uri": "https://localhost:8080/"
        },
        "id": "DfQVUBXTUn8N",
        "outputId": "1797a18c-9c9e-4ec5-ecb9-75279e94ed35"
      },
      "execution_count": null,
      "outputs": [
        {
          "output_type": "stream",
          "name": "stdout",
          "text": [
            "Original DataFrame:\n",
            "(747, 5917)\n",
            "\n",
            "DataFrame after dropping low variance features:\n",
            "(747, 1480)\n"
          ]
        }
      ]
    },
    {
      "cell_type": "code",
      "source": [
        "# Training data\n",
        "X = df.drop('Class',axis=1)\n",
        "y = df['Class']"
      ],
      "metadata": {
        "id": "Q8lCrJ1okMnV"
      },
      "execution_count": null,
      "outputs": []
    },
    {
      "cell_type": "code",
      "source": [
        "# Solving imbalanced data problem using class weights\n",
        "X_train, X_test, y_train, y_test = train_test_split(X, y, test_size=0.2 , random_state=42)"
      ],
      "metadata": {
        "id": "WYrbBe7Wij43"
      },
      "execution_count": null,
      "outputs": []
    },
    {
      "cell_type": "code",
      "source": [
        "# Select a random sample of 30% of features for x-axis\n",
        "sample_size = int(0.3 * len(X.columns))\n",
        "x_features = np.random.choice(X.columns, size=sample_size, replace=False)\n",
        "\n",
        "# Create a single plot for all selected features\n",
        "plt.figure(figsize=(10, 6))\n",
        "\n",
        "# Plot each feature against the target column\n",
        "for feature in x_features:\n",
        "    plt.scatter(y, X[feature], alpha=0.5, label=feature)\n",
        "\n",
        "plt.title('Selected Features vs. Class')\n",
        "plt.xlabel('Class')\n",
        "plt.ylabel('Feature Values')\n",
        "plt.show()"
      ],
      "metadata": {
        "colab": {
          "base_uri": "https://localhost:8080/",
          "height": 564
        },
        "id": "Qi5yz2GyvtsP",
        "outputId": "512b9d7c-3c8d-42d5-a281-9a72acfe9b68"
      },
      "execution_count": null,
      "outputs": [
        {
          "output_type": "display_data",
          "data": {
            "text/plain": [
              "<Figure size 1000x600 with 1 Axes>"
            ],
            "image/png": "[encoded data removed]"
          },
          "metadata": {}
        }
      ]
    },
    {
      "cell_type": "code",
      "source": [
        "# Initialize lists to store the results\n",
        "train_results = []\n",
        "test_results = []\n",
        "max_depths = range(1, 20)\n",
        "\n",
        "for max_depth in max_depths:\n",
        "    model = DecisionTreeClassifier(max_depth=max_depth)\n",
        "\n",
        "    # Split the data into training and testing sets\n",
        "    X_train, X_test, y_train, y_test = train_test_split(X, y, test_size=0.2 , random_state=42)\n",
        "\n",
        "    # Fit the model\n",
        "    model.fit(X_train, y_train)\n",
        "\n",
        "    # Predict the values\n",
        "    y_train_pred = model.predict(X_train)\n",
        "    y_test_pred = model.predict(X_test)\n",
        "\n",
        "    # Append the results\n",
        "    train_results.append(1- model.score(X_train, y_train))\n",
        "    test_results.append(1- model.score(X_test, y_test))\n",
        "\n",
        "# Plot the results\n",
        "plt.figure(figsize=(12, 6))\n",
        "\n",
        "plt.plot(max_depths, train_results, 'b', label='Training Error')\n",
        "plt.plot(max_depths, test_results, 'r', label='Testing Error')\n",
        "plt.xlabel('Max Depth (Model Complexity)')\n",
        "plt.ylabel('Model Error')\n",
        "plt.legend()\n",
        "\n",
        "# Set x-axis ticks with integer values\n",
        "plt.xticks(max_depths)\n",
        "\n",
        "plt.show()"
      ],
      "metadata": {
        "colab": {
          "base_uri": "https://localhost:8080/",
          "height": 522
        },
        "id": "esqXziHoLQxN",
        "outputId": "e44a92e0-1fa9-411c-cb69-61457d425683"
      },
      "execution_count": null,
      "outputs": [
        {
          "output_type": "display_data",
          "data": {
            "text/plain": [
              "<Figure size 1200x600 with 1 Axes>"
            ],
            "image/png": "[encoded data removed]"
          },
          "metadata": {}
        }
      ]
    },
    {
      "cell_type": "code",
      "source": [
        "class_labels = np.unique(y_train)\n",
        "class_weights = compute_class_weight('balanced', classes=class_labels, y=y_train)\n",
        "class_weight_dict = {class_label: weight for class_label, weight in zip(class_labels, class_weights)}\n",
        "# Increase the weight of the last two classes (adjust as needed)\n",
        "class_weight_dict[1] *= 2\n",
        "class_weight_dict[2] *= 2\n",
        "print(f\"Weight of First Class = {class_weight_dict[0]} and Weight of Second Class = {class_weight_dict[1]} and Weight of Third Class = {class_weight_dict[2]}\")\n",
        "\n",
        "model= DecisionTreeClassifier(max_depth= 5, class_weight=class_weight_dict)\n",
        "model.fit(X_train, y_train)\n",
        "y_predict= model.predict(X_test)\n",
        "\n",
        "print(\"Training Accuracy=\",accuracy_score(y_train, model.predict(X_train)))\n",
        "print(\"Testing Accuracy=\", accuracy_score(y_test, y_predict))"
      ],
      "metadata": {
        "colab": {
          "base_uri": "https://localhost:8080/"
        },
        "id": "ONNmyFVBHKxV",
        "outputId": "36479c68-7d00-479e-d1d0-d893a44c2574"
      },
      "execution_count": null,
      "outputs": [
        {
          "output_type": "stream",
          "name": "stdout",
          "text": [
            "Weight of First Class = 3.98 and Weight of Second Class = 44.22222222222222 and Weight of Third Class = 0.7397769516728625\n",
            "Training Accuracy= 0.9212730318257957\n",
            "Testing Accuracy= 0.8133333333333334\n"
          ]
        }
      ]
    },
    {
      "cell_type": "code",
      "source": [
        "print(classification_report(y_test, y_predict, zero_division=1))"
      ],
      "metadata": {
        "colab": {
          "base_uri": "https://localhost:8080/"
        },
        "id": "Ultse1_7i2bW",
        "outputId": "b2e6a648-4997-4baf-e07c-f90a7cfe9d7f"
      },
      "execution_count": null,
      "outputs": [
        {
          "output_type": "stream",
          "name": "stdout",
          "text": [
            "              precision    recall  f1-score   support\n",
            "\n",
            "           0       0.10      0.07      0.08        14\n",
            "           1       0.33      0.20      0.25         5\n",
            "           2       0.88      0.92      0.90       131\n",
            "\n",
            "    accuracy                           0.82       150\n",
            "   macro avg       0.44      0.40      0.41       150\n",
            "weighted avg       0.79      0.82      0.80       150\n",
            "\n"
          ]
        }
      ]
    },
    {
      "cell_type": "markdown",
      "source": [
        "**Showing differences between entropy and gini index in parameter selection**"
      ],
      "metadata": {
        "id": "UqfVgL3BTS0S"
      }
    },
    {
      "cell_type": "code",
      "source": [
        "# Initialize lists to store the results\n",
        "train_results = []\n",
        "test_results = []\n",
        "max_depths = range(1, 20)\n",
        "\n",
        "for max_depth in max_depths:\n",
        "    model = DecisionTreeClassifier(max_depth=max_depth, class_weight=class_weight_dict, criterion='entropy')\n",
        "\n",
        "    # Split the data into training and testing sets\n",
        "    X_train, X_test, y_train, y_test = train_test_split(X, y, test_size=0.2 , random_state=42)\n",
        "\n",
        "    # Fit the model\n",
        "    model.fit(X_train, y_train)\n",
        "\n",
        "    # Predict the values\n",
        "    y_train_pred = model.predict(X_train)\n",
        "    y_test_pred = model.predict(X_test)\n",
        "\n",
        "    # Append the results\n",
        "    train_results.append(1- model.score(X_train, y_train))\n",
        "    test_results.append(1- model.score(X_test, y_test))\n",
        "\n",
        "# Plot the results\n",
        "plt.figure(figsize=(12, 6))\n",
        "\n",
        "plt.plot(max_depths, train_results, 'b', label='Training Error')\n",
        "plt.plot(max_depths, test_results, 'r', label='Testing Error')\n",
        "plt.xlabel('Max Depth (Model Complexity)')\n",
        "plt.ylabel('Model Error')\n",
        "plt.legend()\n",
        "\n",
        "# Set x-axis ticks with integer values\n",
        "plt.xticks(max_depths)\n",
        "\n",
        "plt.show()"
      ],
      "metadata": {
        "colab": {
          "base_uri": "https://localhost:8080/",
          "height": 527
        },
        "id": "l_xsGfGo77Ch",
        "outputId": "6d92fb0e-cb36-4fbb-d724-8d0bf175fb93"
      },
      "execution_count": null,
      "outputs": [
        {
          "output_type": "display_data",
          "data": {
            "text/plain": [
              "<Figure size 1200x600 with 1 Axes>"
            ],
            "image/png": "[encoded data removed]"
          },
          "metadata": {}
        }
      ]
    },
    {
      "cell_type": "code",
      "source": [
        "# Initialize lists to store the results\n",
        "train_results = []\n",
        "test_results = []\n",
        "max_depths = range(1, 20)\n",
        "\n",
        "for max_depth in max_depths:\n",
        "    model = DecisionTreeClassifier(max_depth=max_depth, class_weight=class_weight_dict)\n",
        "\n",
        "    # Split the data into training and testing sets\n",
        "    X_train, X_test, y_train, y_test = train_test_split(X, y, test_size=0.2 , random_state=42)\n",
        "\n",
        "    # Fit the model\n",
        "    model.fit(X_train, y_train)\n",
        "\n",
        "    # Predict the values\n",
        "    y_train_pred = model.predict(X_train)\n",
        "    y_test_pred = model.predict(X_test)\n",
        "\n",
        "    # Append the results\n",
        "    train_results.append(1- model.score(X_train, y_train))\n",
        "    test_results.append(1- model.score(X_test, y_test))\n",
        "\n",
        "# Plot the results\n",
        "plt.figure(figsize=(12, 6))\n",
        "\n",
        "plt.plot(max_depths, train_results, 'b', label='Training Error')\n",
        "plt.plot(max_depths, test_results, 'r', label='Testing Error')\n",
        "plt.xlabel('Max Depth (Model Complexity)')\n",
        "plt.ylabel('Model Error')\n",
        "plt.legend()\n",
        "\n",
        "# Set x-axis ticks with integer values\n",
        "plt.xticks(max_depths)\n",
        "\n",
        "plt.show()"
      ],
      "metadata": {
        "colab": {
          "base_uri": "https://localhost:8080/",
          "height": 522
        },
        "id": "SzzigazYLADL",
        "outputId": "359a0708-2f65-4a33-9dc6-faebe0be339e"
      },
      "execution_count": null,
      "outputs": [
        {
          "output_type": "display_data",
          "data": {
            "text/plain": [
              "<Figure size 1200x600 with 1 Axes>"
            ],
            "image/png": "[encoded data removed]"
          },
          "metadata": {}
        }
      ]
    },
    {
      "cell_type": "code",
      "source": [
        "from sklearn.tree import DecisionTreeClassifier\n",
        "from sklearn.model_selection import train_test_split\n",
        "import matplotlib.pyplot as plt\n",
        "\n",
        "# Assuming you have your features (X) and labels (y) ready\n",
        "# Make sure to replace X and y with your actual data\n",
        "\n",
        "# Initialize lists to store the results\n",
        "train_results = []\n",
        "test_results = []\n",
        "min_samples_splits = range(2, 21)  # You can adjust this range based on your needs\n",
        "\n",
        "for min_samples_split in min_samples_splits:\n",
        "    model = DecisionTreeClassifier(min_samples_split=min_samples_split, class_weight=class_weight_dict, criterion='entropy')\n",
        "\n",
        "    # Split the data into training and testing sets\n",
        "    X_train, X_test, y_train, y_test = train_test_split(X, y, test_size=0.2, random_state=42)\n",
        "\n",
        "    # Fit the model\n",
        "    model.fit(X_train, y_train)\n",
        "\n",
        "    # Predict the values\n",
        "    y_train_pred = model.predict(X_train)\n",
        "    y_test_pred = model.predict(X_test)\n",
        "\n",
        "    # Append the results\n",
        "    train_results.append(1 - model.score(X_train, y_train))\n",
        "    test_results.append(1 - model.score(X_test, y_test))\n",
        "\n",
        "# Plot the results\n",
        "plt.figure(figsize=(12, 6))\n",
        "\n",
        "plt.plot(min_samples_splits, train_results, 'b', label='Training Error')\n",
        "plt.plot(min_samples_splits, test_results, 'r', label='Testing Error')\n",
        "plt.xlabel('Min Samples Split (Model Complexity)')\n",
        "plt.ylabel('Model Error')\n",
        "plt.legend()\n",
        "\n",
        "# Set x-axis ticks with integer values\n",
        "plt.xticks(min_samples_splits)\n",
        "\n",
        "plt.show()\n"
      ],
      "metadata": {
        "colab": {
          "base_uri": "https://localhost:8080/",
          "height": 526
        },
        "id": "4hAcsraO8HYl",
        "outputId": "6fd73b1b-dcc1-4331-aef6-a681a532812e"
      },
      "execution_count": null,
      "outputs": [
        {
          "output_type": "display_data",
          "data": {
            "text/plain": [
              "<Figure size 1200x600 with 1 Axes>"
            ],
            "image/png": "[encoded data removed]"
          },
          "metadata": {}
        }
      ]
    },
    {
      "cell_type": "code",
      "source": [
        "from sklearn.tree import DecisionTreeClassifier\n",
        "from sklearn.model_selection import train_test_split\n",
        "import matplotlib.pyplot as plt\n",
        "\n",
        "# Assuming you have your features (X) and labels (y) ready\n",
        "# Make sure to replace X and y with your actual data\n",
        "\n",
        "# Initialize lists to store the results\n",
        "train_results = []\n",
        "test_results = []\n",
        "min_samples_splits = range(2, 21)  # You can adjust this range based on your needs\n",
        "\n",
        "for min_samples_split in min_samples_splits:\n",
        "    model = DecisionTreeClassifier(min_samples_split=min_samples_split, class_weight=class_weight_dict)\n",
        "\n",
        "    # Split the data into training and testing sets\n",
        "    X_train, X_test, y_train, y_test = train_test_split(X, y, test_size=0.2, random_state=42)\n",
        "\n",
        "    # Fit the model\n",
        "    model.fit(X_train, y_train)\n",
        "\n",
        "    # Predict the values\n",
        "    y_train_pred = model.predict(X_train)\n",
        "    y_test_pred = model.predict(X_test)\n",
        "\n",
        "    # Append the results\n",
        "    train_results.append(1 - model.score(X_train, y_train))\n",
        "    test_results.append(1 - model.score(X_test, y_test))\n",
        "\n",
        "# Plot the results\n",
        "plt.figure(figsize=(12, 6))\n",
        "\n",
        "plt.plot(min_samples_splits, train_results, 'b', label='Training Error')\n",
        "plt.plot(min_samples_splits, test_results, 'r', label='Testing Error')\n",
        "plt.xlabel('Min Samples Split (Model Complexity)')\n",
        "plt.ylabel('Model Error')\n",
        "plt.legend()\n",
        "\n",
        "# Set x-axis ticks with integer values\n",
        "plt.xticks(min_samples_splits)\n",
        "\n",
        "plt.show()\n"
      ],
      "metadata": {
        "colab": {
          "base_uri": "https://localhost:8080/",
          "height": 522
        },
        "id": "kKQUKssScKKj",
        "outputId": "02fb65d7-78d5-4f45-c05e-2b2fa535d395"
      },
      "execution_count": null,
      "outputs": [
        {
          "output_type": "display_data",
          "data": {
            "text/plain": [
              "<Figure size 1200x600 with 1 Axes>"
            ],
            "image/png": "[encoded data removed]"
          },
          "metadata": {}
        }
      ]
    },
    {
      "cell_type": "markdown",
      "source": [
        "**Gini impurity is computationally effecient**"
      ],
      "metadata": {
        "id": "bD6RR1vmZgdH"
      }
    },
    {
      "cell_type": "code",
      "source": [
        "DTC2= DecisionTreeClassifier(max_depth= 3, class_weight=class_weight_dict, criterion='entropy')\n",
        "DTC2.fit(X_train, y_train)\n",
        "\n",
        "# Predict the values\n",
        "y_predict= DTC2.predict(X_test)\n",
        "\n",
        "print(\"Training Accuracy=\",accuracy_score(y_train, DTC2.predict(X_train)))\n",
        "print(\"Testing Accuracy=\", accuracy_score(y_test, y_predict))"
      ],
      "metadata": {
        "colab": {
          "base_uri": "https://localhost:8080/"
        },
        "id": "d15VAhQ9yo_T",
        "outputId": "89cb6109-d60a-4097-f01c-7eb98e24dc1d"
      },
      "execution_count": null,
      "outputs": [
        {
          "output_type": "stream",
          "name": "stdout",
          "text": [
            "Training Accuracy= 0.6080402010050251\n",
            "Testing Accuracy= 0.5866666666666667\n"
          ]
        }
      ]
    },
    {
      "cell_type": "code",
      "source": [
        "DTC= DecisionTreeClassifier(max_depth= 3, class_weight=class_weight_dict)\n",
        "DTC.fit(X_train, y_train)\n",
        "\n",
        "# Predict the values\n",
        "y_predict= DTC.predict(X_test)\n",
        "\n",
        "print(\"Training Accuracy=\",accuracy_score(y_train, DTC.predict(X_train)))\n",
        "print(\"Testing Accuracy=\", accuracy_score(y_test, y_predict))"
      ],
      "metadata": {
        "colab": {
          "base_uri": "https://localhost:8080/"
        },
        "id": "ldp9JhFdxTJT",
        "outputId": "f2d5ef14-1949-4764-e56f-890be9663cf9"
      },
      "execution_count": null,
      "outputs": [
        {
          "output_type": "stream",
          "name": "stdout",
          "text": [
            "Training Accuracy= 0.8676716917922948\n",
            "Testing Accuracy= 0.8066666666666666\n"
          ]
        }
      ]
    },
    {
      "cell_type": "code",
      "source": [
        "tree.plot_tree(DTC, filled=True)"
      ],
      "metadata": {
        "colab": {
          "base_uri": "https://localhost:8080/",
          "height": 666
        },
        "id": "cj7Cjuw6uurw",
        "outputId": "e391a027-75c4-4ede-b8dc-340b6de36e19"
      },
      "execution_count": null,
      "outputs": [
        {
          "output_type": "execute_result",
          "data": {
            "text/plain": [
              "[Text(0.5, 0.875, 'x[80] <= 0.0\\ngini = 0.63\\nsamples = 747\\nvalue = [254.72, 619.111, 494.911]'),\n",
              " Text(0.25, 0.625, 'x[12] <= 0.001\\ngini = 0.471\\nsamples = 223\\nvalue = [55.72, 442.222, 147.216]'),\n",
              " Text(0.125, 0.375, 'x[806] <= 0.0\\ngini = 0.43\\nsamples = 77\\nvalue = [23.88, 0.0, 52.524]'),\n",
              " Text(0.0625, 0.125, 'gini = 0.357\\nsamples = 75\\nvalue = [15.92, 0.0, 52.524]'),\n",
              " Text(0.1875, 0.125, 'gini = 0.0\\nsamples = 2\\nvalue = [7.96, 0.0, 0.0]'),\n",
              " Text(0.375, 0.375, 'x[49] <= 0.001\\ngini = 0.365\\nsamples = 146\\nvalue = [31.84, 442.222, 94.691]'),\n",
              " Text(0.3125, 0.125, 'gini = 0.285\\nsamples = 96\\nvalue = [27.86, 442.222, 58.442]'),\n",
              " Text(0.4375, 0.125, 'gini = 0.178\\nsamples = 50\\nvalue = [3.98, 0.0, 36.249]'),\n",
              " Text(0.75, 0.625, 'x[112] <= 0.004\\ngini = 0.634\\nsamples = 524\\nvalue = [199.0, 176.889, 347.695]'),\n",
              " Text(0.625, 0.375, 'x[596] <= 0.001\\ngini = 0.468\\nsamples = 402\\nvalue = [159.2, 0.0, 267.799]'),\n",
              " Text(0.5625, 0.125, 'gini = 0.444\\nsamples = 389\\nvalue = [131.34, 0.0, 263.361]'),\n",
              " Text(0.6875, 0.125, 'gini = 0.237\\nsamples = 13\\nvalue = [27.86, 0.0, 4.439]'),\n",
              " Text(0.875, 0.375, 'x[37] <= 0.009\\ngini = 0.554\\nsamples = 122\\nvalue = [39.8, 176.889, 79.896]'),\n",
              " Text(0.8125, 0.125, 'gini = 0.391\\nsamples = 79\\nvalue = [19.9, 0.0, 54.743]'),\n",
              " Text(0.9375, 0.125, 'gini = 0.344\\nsamples = 43\\nvalue = [19.9, 176.889, 25.152]')]"
            ]
          },
          "metadata": {},
          "execution_count": 108
        },
        {
          "output_type": "display_data",
          "data": {
            "text/plain": [
              "<Figure size 640x480 with 1 Axes>"
            ],
            "image/png": "[encoded data removed]"
          },
          "metadata": {}
        }
      ]
    },
    {
      "cell_type": "code",
      "source": [
        "from sklearn.tree import export_text\n",
        "\n",
        "# Display the splitting mechanism\n",
        "tree_rules = export_text(DTC, feature_names=list(X.columns))\n",
        "print(\"Decision Tree Rules:\\n\", tree_rules)"
      ],
      "metadata": {
        "colab": {
          "base_uri": "https://localhost:8080/"
        },
        "id": "wuKGrSeDiDX7",
        "outputId": "d0f72a28-f6b3-4f23-ee1e-4b4c16646266"
      },
      "execution_count": null,
      "outputs": [
        {
          "output_type": "stream",
          "name": "stdout",
          "text": [
            "Decision Tree Rules:\n",
            " |--- Clostridium_XlVa_Otu146 <= 0.00\n",
            "|   |--- Bacteroides_Otu113 <= 0.00\n",
            "|   |   |--- Clostridiales_unclassified_Otu520 <= 0.00\n",
            "|   |   |   |--- class: 2\n",
            "|   |   |--- Clostridiales_unclassified_Otu520 >  0.00\n",
            "|   |   |   |--- class: 0\n",
            "|   |--- Bacteroides_Otu113 >  0.00\n",
            "|   |   |--- Dorea_Otu163 <= 0.00\n",
            "|   |   |   |--- class: 1\n",
            "|   |   |--- Dorea_Otu163 >  0.00\n",
            "|   |   |   |--- class: 2\n",
            "|--- Clostridium_XlVa_Otu146 >  0.00\n",
            "|   |--- Erysipelotrichaceae_unclassified_Otu167 <= 0.00\n",
            "|   |   |--- Clostridium_XlVa_Otu16409 <= 0.00\n",
            "|   |   |   |--- class: 2\n",
            "|   |   |--- Clostridium_XlVa_Otu16409 >  0.00\n",
            "|   |   |   |--- class: 1\n",
            "|   |--- Erysipelotrichaceae_unclassified_Otu167 >  0.00\n",
            "|   |   |--- Ruminococcus_Otu166 <= 0.00\n",
            "|   |   |   |--- class: 2\n",
            "|   |   |--- Ruminococcus_Otu166 >  0.00\n",
            "|   |   |   |--- class: 0\n",
            "\n"
          ]
        }
      ]
    },
    {
      "cell_type": "code",
      "source": [
        "print(classification_report(y_test, y_predict, zero_division=1))"
      ],
      "metadata": {
        "colab": {
          "base_uri": "https://localhost:8080/"
        },
        "id": "4DQIRq3VRrth",
        "outputId": "09311133-47db-4332-b1fc-29fd363685e5"
      },
      "execution_count": null,
      "outputs": [
        {
          "output_type": "stream",
          "name": "stdout",
          "text": [
            "              precision    recall  f1-score   support\n",
            "\n",
            "           0       0.25      0.07      0.11        14\n",
            "           1       0.15      0.40      0.22         5\n",
            "           2       0.89      0.90      0.89       131\n",
            "\n",
            "    accuracy                           0.81       150\n",
            "   macro avg       0.43      0.46      0.41       150\n",
            "weighted avg       0.80      0.81      0.80       150\n",
            "\n"
          ]
        }
      ]
    },
    {
      "cell_type": "code",
      "source": [
        "# Create a confusion matrix\n",
        "cm = confusion_matrix(y_test, y_predict)\n",
        "\n",
        "# Plot the confusion matrix using seaborn\n",
        "plt.figure(figsize=(8, 6))\n",
        "sns.heatmap(cm, annot=True, fmt=\"d\", cmap=\"Blues\")\n",
        "plt.title(\"Confusion Matrix\")\n",
        "plt.xlabel(\"Predicted\")\n",
        "plt.ylabel(\"True\")\n",
        "plt.show()"
      ],
      "metadata": {
        "colab": {
          "base_uri": "https://localhost:8080/",
          "height": 564
        },
        "id": "oXeo_BWcJISS",
        "outputId": "926b06c2-d657-4042-9990-db0a4a35524e"
      },
      "execution_count": null,
      "outputs": [
        {
          "output_type": "display_data",
          "data": {
            "text/plain": [
              "<Figure size 800x600 with 2 Axes>"
            ],
            "image/png": "[encoded data removed]"
          },
          "metadata": {}
        }
      ]
    },
    {
      "cell_type": "code",
      "source": [
        "from sklearn.metrics import roc_curve, auc\n",
        "from sklearn.preprocessing import label_binarize\n",
        "import matplotlib.pyplot as plt\n",
        "from itertools import cycle\n",
        "\n",
        "# Assuming y_test and y_predict are your true labels and predicted labels\n",
        "\n",
        "# Binarize the labels\n",
        "y_test_bin = label_binarize(y_test, classes=np.unique(y_test))\n",
        "y_predict_bin = label_binarize(y_predict, classes=np.unique(y_test))\n",
        "\n",
        "# Compute ROC curve and AUC for each class\n",
        "fpr = dict()\n",
        "tpr = dict()\n",
        "roc_auc = dict()\n",
        "\n",
        "n_classes = y_test_bin.shape[1]\n",
        "\n",
        "for i in range(n_classes):\n",
        "    fpr[i], tpr[i], _ = roc_curve(y_test_bin[:, i], y_predict_bin[:, i])\n",
        "    roc_auc[i] = auc(fpr[i], tpr[i])\n",
        "\n",
        "# Plot ROC curve for each class\n",
        "plt.figure(figsize=(8, 6))\n",
        "\n",
        "colors = cycle(['aqua', 'darkorange', 'cornflowerblue'])\n",
        "for i, color in zip(range(n_classes), colors):\n",
        "    plt.plot(fpr[i], tpr[i], color=color, lw=2, label=f'Class {i} (AUC = {roc_auc[i]:.2f})')\n",
        "\n",
        "plt.plot([0, 1], [0, 1], linestyle='--', color='gray', lw=2, label='Random')\n",
        "plt.xlabel('False Positive Rate')\n",
        "plt.ylabel('True Positive Rate')\n",
        "plt.title('Receiver Operating Characteristic (ROC) Curve - Multi-class')\n",
        "plt.legend(loc='lower right')\n",
        "plt.show()\n"
      ],
      "metadata": {
        "id": "VA5motLDjD5U"
      },
      "execution_count": null,
      "outputs": []
    },
    {
      "cell_type": "code",
      "source": [
        "# Assuming you have your features (X) and labels (y) ready as a DataFrame\n",
        "# You can reset the index and convert to NumPy array for compatibility\n",
        "X_array = X.reset_index(drop=True).values\n",
        "y_array = y.values\n",
        "\n",
        "# Define a range of n_splits values to try\n",
        "n_splits_values = range(2, 11)  # You can adjust this range based on your needs\n",
        "\n",
        "# Initialize a list to store the results\n",
        "cv_results = []\n",
        "\n",
        "# Iterate over different n_splits values\n",
        "for n_splits in n_splits_values:\n",
        "    # Initialize the StratifiedKFold cross-validator\n",
        "    skf = StratifiedKFold(n_splits=n_splits, shuffle=True, random_state=42)\n",
        "\n",
        "    # Initialize a list to store the accuracy scores for each fold\n",
        "    fold_scores = []\n",
        "\n",
        "    # Iterate over the folds\n",
        "    for train_index, test_index in skf.split(X_array, y_array):\n",
        "        X_train, X_test = X_array[train_index], X_array[test_index]\n",
        "        y_train, y_test = y_array[train_index], y_array[test_index]\n",
        "\n",
        "        # Initialize and train your model (DecisionTreeClassifier in this example)\n",
        "        model = DecisionTreeClassifier(max_depth= 3, class_weight=class_weight_dict)\n",
        "        model.fit(X_train, y_train)\n",
        "\n",
        "        # Make predictions\n",
        "        y_pred = model.predict(X_test)\n",
        "\n",
        "        # Calculate accuracy and store the result\n",
        "        accuracy = accuracy_score(y_test, y_pred)\n",
        "        fold_scores.append(accuracy)\n",
        "\n",
        "    # Calculate the average accuracy for this n_splits value\n",
        "    avg_accuracy = np.mean(fold_scores)\n",
        "\n",
        "    # Store the result\n",
        "    cv_results.append((n_splits, avg_accuracy))\n",
        "\n",
        "n_splits_values, avg_accuracies = zip(*cv_results)\n",
        "\n",
        "# Plot the results\n",
        "plt.figure(figsize=(10, 6))\n",
        "plt.plot(n_splits_values, avg_accuracies, marker='o', linestyle='-', color='b')\n",
        "plt.title('Cross-Validation Performance vs. n_splits')\n",
        "plt.xlabel('n_splits')\n",
        "plt.ylabel('Average Accuracy')\n",
        "plt.grid(True)\n",
        "plt.show()\n",
        "\n",
        "# Find the best n_splits based on the highest average accuracy\n",
        "best_n_splits, best_accuracy = max(cv_results, key=lambda x: x[1])\n",
        "\n",
        "print(f\"\\nThe best n_splits is {best_n_splits} with an average accuracy of {best_accuracy:.4f}\")\n",
        "\n",
        "best_skf = StratifiedKFold(n_splits=best_n_splits, shuffle=True, random_state=42)\n",
        "for train_index, test_index in best_skf.split(X_array, y_array):\n",
        "    X_train, X_test = X_array[train_index], X_array[test_index]\n",
        "    y_train, y_test = y_array[train_index], y_array[test_index]\n",
        "\n",
        "    # Initialize and train your model (DecisionTreeClassifier in this example)\n",
        "    model = DecisionTreeClassifier(max_depth=3, class_weight=class_weight_dict)\n",
        "    model.fit(X_train, y_train)\n",
        "\n",
        "    # Make predictions\n",
        "    y_pred = model.predict(X_test)\n",
        "\n",
        "    # Print the classification report\n",
        "    report = classification_report(y_test, y_pred)\n",
        "    break\n",
        "\n",
        "print(f\"\\n\\nClassification Report for the best n_splits ({best_n_splits}):\")\n",
        "print(report)"
      ],
      "metadata": {
        "colab": {
          "base_uri": "https://localhost:8080/",
          "height": 824
        },
        "id": "lggx8W9VNatA",
        "outputId": "c9c2b18e-4808-4387-f72a-f66bb8af8a84"
      },
      "execution_count": null,
      "outputs": [
        {
          "output_type": "display_data",
          "data": {
            "text/plain": [
              "<Figure size 1000x600 with 1 Axes>"
            ],
            "image/png": "[encoded data removed]"
          },
          "metadata": {}
        },
        {
          "output_type": "stream",
          "name": "stdout",
          "text": [
            "\n",
            "The best n_splits is 8 with an average accuracy of 0.7214\n",
            "\n",
            "\n",
            "Classification Report for the best n_splits (8):\n",
            "              precision    recall  f1-score   support\n",
            "\n",
            "           0       0.00      0.00      0.00         8\n",
            "           1       0.00      0.00      0.00         2\n",
            "           2       0.87      0.77      0.82        84\n",
            "\n",
            "    accuracy                           0.69        94\n",
            "   macro avg       0.29      0.26      0.27        94\n",
            "weighted avg       0.77      0.69      0.73        94\n",
            "\n"
          ]
        }
      ]
    },
    {
      "cell_type": "code",
      "source": [
        "cv_scores = []\n",
        "for x in range(2, 14):\n",
        "    cv = cross_val_score(DTC, X, y ,cv=x)\n",
        "    cv_scores.append(np.mean(cv))\n",
        "    print(f\"Accuracy {x} on Test Set: {np.mean(cv)}\")"
      ],
      "metadata": {
        "colab": {
          "base_uri": "https://localhost:8080/"
        },
        "id": "MRZSBk6jki4D",
        "outputId": "d25c5d46-d434-43dc-ac7f-2438b9e4a386"
      },
      "execution_count": null,
      "outputs": [
        {
          "output_type": "stream",
          "name": "stdout",
          "text": [
            "Accuracy 2 on Test Set: 0.7176850511103783\n",
            "Accuracy 3 on Test Set: 0.7443105756358769\n",
            "Accuracy 4 on Test Set: 0.6842188488298544\n",
            "Accuracy 5 on Test Set: 0.7630067114093959\n",
            "Accuracy 6 on Test Set: 0.5863010752688173\n",
            "Accuracy 7 on Test Set: 0.6343930271808953\n",
            "Accuracy 8 on Test Set: 0.5997197437657287\n",
            "Accuracy 9 on Test Set: 0.6907630522088355\n",
            "Accuracy 10 on Test Set: 0.5567567567567568\n",
            "Accuracy 11 on Test Set: 0.6128781227552079\n",
            "Accuracy 12 on Test Set: 0.6048813790749274\n",
            "Accuracy 13 on Test Set: 0.5655218949229839\n"
          ]
        }
      ]
    },
    {
      "cell_type": "code",
      "source": [
        "best_cv_index = np.argmax(cv_scores) + 2  # Adding 2 because range starts from 2\n",
        "best_cv = best_cv_index\n",
        "\n",
        "print(f\"Best number of folds: {best_cv}\")"
      ],
      "metadata": {
        "colab": {
          "base_uri": "https://localhost:8080/"
        },
        "id": "sudhVZcM3lvB",
        "outputId": "ea864ee0-2428-4247-87e9-6ec59da7c89f"
      },
      "execution_count": null,
      "outputs": [
        {
          "output_type": "stream",
          "name": "stdout",
          "text": [
            "Best number of folds: 5\n"
          ]
        }
      ]
    },
    {
      "cell_type": "code",
      "source": [
        "from sklearn.model_selection import cross_val_predict\n",
        "\n",
        "best_model = DTC  # Replace with your model\n",
        "best_cv_result = cross_val_score(best_model, X, y, cv=best_cv)\n",
        "best_model.fit(X, y)  # Fit on the entire dataset\n",
        "\n",
        "y_pred = cross_val_predict(best_model, X, y, cv=best_cv)\n",
        "print(\"Testing accuracy=\", accuracy_score(y, y_pred))\n",
        "print(\"\\n\",classification_report(y, y_pred, zero_division=1))"
      ],
      "metadata": {
        "colab": {
          "base_uri": "https://localhost:8080/"
        },
        "id": "qv_cHHFY3tzj",
        "outputId": "723c7e0a-507c-4f55-eb81-76911643f677"
      },
      "execution_count": null,
      "outputs": [
        {
          "output_type": "stream",
          "name": "stdout",
          "text": [
            "Testing accuracy= 0.7617135207496654\n",
            "\n",
            "               precision    recall  f1-score   support\n",
            "\n",
            "           0       0.11      0.03      0.05        64\n",
            "           1       0.02      0.14      0.04        14\n",
            "           2       0.90      0.84      0.87       669\n",
            "\n",
            "    accuracy                           0.76       747\n",
            "   macro avg       0.34      0.34      0.32       747\n",
            "weighted avg       0.82      0.76      0.79       747\n",
            "\n"
          ]
        }
      ]
    },
    {
      "cell_type": "code",
      "source": [
        "from sklearn.model_selection import cross_validate\n",
        "\n",
        "# Perform 10-fold cross-validation\n",
        "\n",
        "cv_results = cross_validate(DTC, X, y, cv=5, return_train_score=True)\n",
        "\n",
        "# Extracting train and test scores\n",
        "\n",
        "train_scores = cv_results['train_score']\n",
        "\n",
        "test_scores = cv_results['test_score']\n",
        "\n",
        "# Plotting the results\n",
        "\n",
        "plt.figure(figsize=(10, 6))\n",
        "\n",
        "plt.plot(train_scores, label='Training Error', color='blue', marker='o')\n",
        "\n",
        "plt.plot(test_scores, label='Testing Error', color='red', marker='o')\n",
        "\n",
        "plt.title('Decision Tree - Training and Testing Error per Fold')\n",
        "\n",
        "plt.xlabel('Fold')\n",
        "plt.xticks(range(0,5))\n",
        "\n",
        "plt.ylabel('Accuracy')\n",
        "\n",
        "plt.legend()\n",
        "\n",
        "plt.grid(True)\n",
        "\n",
        "plt.show()"
      ],
      "metadata": {
        "colab": {
          "base_uri": "https://localhost:8080/",
          "height": 564
        },
        "id": "LwgTKqJLq5SY",
        "outputId": "dcf53ff0-270a-4783-d2cb-95334d18589f"
      },
      "execution_count": null,
      "outputs": [
        {
          "output_type": "display_data",
          "data": {
            "text/plain": [
              "<Figure size 1000x600 with 1 Axes>"
            ],
            "image/png": "[encoded data removed]"
          },
          "metadata": {}
        }
      ]
    },
    {
      "cell_type": "code",
      "source": [
        "import matplotlib.pyplot as plt\n",
        "from sklearn.model_selection import GridSearchCV, StratifiedKFold, cross_val_predict\n",
        "from sklearn.tree import DecisionTreeClassifier\n",
        "from sklearn.metrics import accuracy_score, confusion_matrix\n",
        "import numpy as np\n",
        "\n",
        "# Assuming you have your features (X) and labels (y) ready\n",
        "# No need to check for DataFrame or use .values if X is already a NumPy array\n",
        "X_array = X\n",
        "y_array = y\n",
        "\n",
        "# Define the hyperparameters and their possible values for the grid search\n",
        "param_grid = {\n",
        "    'max_depth': range(1, 11),\n",
        "    'min_samples_split': [2, 5, 10],\n",
        "    'min_samples_leaf': [1, 2, 4],\n",
        "    'criterion': ['entropy', 'gini']\n",
        "}\n",
        "\n",
        "# Initialize the Decision Tree classifier\n",
        "dt_classifier = DecisionTreeClassifier(class_weight=class_weight_dict)\n",
        "\n",
        "# Initialize the StratifiedKFold cross-validator\n",
        "stratified_kfold = StratifiedKFold(n_splits=4, shuffle=True, random_state=42)\n",
        "\n",
        "# Initialize GridSearchCV with the Decision Tree classifier, parameter grid, and stratified cross-validation\n",
        "grid_search = GridSearchCV(estimator=dt_classifier, param_grid=param_grid, scoring='accuracy', cv=stratified_kfold)\n",
        "\n",
        "# Perform the grid search on your data\n",
        "grid_search.fit(X_array, y_array)\n",
        "\n",
        "# Extract the best hyperparameters and the best model\n",
        "best_params = grid_search.best_params_\n",
        "best_model = grid_search.best_estimator_\n",
        "\n",
        "# Print the best hyperparameters\n",
        "print(f\"Best Hyperparameters: {best_params}\")\n",
        "\n",
        "# Evaluate the best model using cross-validation predictions\n",
        "y_pred = cross_val_predict(best_model, X_array, y_array, cv=stratified_kfold)\n",
        "\n",
        "# Calculate accuracy\n",
        "accuracy = accuracy_score(y_array, y_pred)\n",
        "print(f\"\\nAccuracy: {accuracy:.4f}\")\n",
        "\n",
        "# Display confusion matrix\n",
        "conf_matrix = confusion_matrix(y_array, y_pred)\n",
        "print(\"\\nConfusion Matrix:\")\n",
        "print(conf_matrix)\n",
        "\n",
        "print(\"\\nClassification Report:\")\n",
        "print(classification_report(y_array, y_pred, zero_division=1))"
      ],
      "metadata": {
        "colab": {
          "base_uri": "https://localhost:8080/"
        },
        "id": "vjE27998TSUf",
        "outputId": "9dbdecf7-8dd3-4b54-a99b-44add65ab470"
      },
      "execution_count": null,
      "outputs": [
        {
          "output_type": "stream",
          "name": "stdout",
          "text": [
            "Best Hyperparameters: {'criterion': 'gini', 'max_depth': 10, 'min_samples_leaf': 1, 'min_samples_split': 5}\n",
            "\n",
            "Accuracy: 0.7483\n",
            "\n",
            "Confusion Matrix:\n",
            "[[  5   3  56]\n",
            " [  3   1  10]\n",
            " [ 96  20 553]]\n",
            "\n",
            "Classification Report:\n",
            "              precision    recall  f1-score   support\n",
            "\n",
            "           0       0.05      0.08      0.06        64\n",
            "           1       0.04      0.07      0.05        14\n",
            "           2       0.89      0.83      0.86       669\n",
            "\n",
            "    accuracy                           0.75       747\n",
            "   macro avg       0.33      0.33      0.32       747\n",
            "weighted avg       0.80      0.75      0.78       747\n",
            "\n"
          ]
        }
      ]
    },
    {
      "cell_type": "code",
      "source": [
        "model= DecisionTreeClassifier(criterion= 'gini', max_depth= 10, min_samples_leaf= 1, min_samples_split= 5)\n",
        "model.fit(X_train, y_train)\n",
        "\n",
        "# Predict the values\n",
        "y_predict= model.predict(X_test)\n",
        "\n",
        "print(\"Training Accuracy=\",accuracy_score(y_train, model.predict(X_train)))\n",
        "print(\"Testing Accuracy=\", accuracy_score(y_test, y_predict))"
      ],
      "metadata": {
        "colab": {
          "base_uri": "https://localhost:8080/"
        },
        "id": "DAm3reMK9lEW",
        "outputId": "c88df25d-d219-4397-d53a-af9776dd5865"
      },
      "execution_count": null,
      "outputs": [
        {
          "output_type": "stream",
          "name": "stdout",
          "text": [
            "Training Accuracy= 0.9363484087102177\n",
            "Testing Accuracy= 0.8333333333333334\n"
          ]
        }
      ]
    },
    {
      "cell_type": "code",
      "source": [
        "from scikeras.wrappers import KerasClassifier, KerasRegressor"
      ],
      "metadata": {
        "id": "r79ib4gMlH2t"
      },
      "execution_count": null,
      "outputs": []
    },
    {
      "cell_type": "code",
      "source": [
        "from sklearn.ensemble import VotingClassifier\n",
        "from sklearn.metrics import accuracy_score\n",
        "from sklearn.datasets import make_classification\n",
        "from sklearn.model_selection import train_test_split\n",
        "from sklearn.linear_model import LogisticRegression\n",
        "from sklearn.tree import DecisionTreeClassifier\n",
        "from sklearn.ensemble import RandomForestClassifier\n",
        "from keras.models import Sequential\n",
        "from keras.layers import Dense\n",
        "\n",
        "ann_model = KerasClassifier(build_fn=model2, epochs=10, batch_size=32, verbose=0)\n",
        "\n",
        "# Create a voting classifier\n",
        "voting_classifier = VotingClassifier(estimators=[\n",
        "    ('rf', rf_model),\n",
        "    ('lr', logreg),\n",
        "    ('dt', DTC),\n",
        "    ('ann', ann_model)\n",
        "], voting='hard')\n",
        "\n",
        "# Train the ensemble model\n",
        "voting_classifier.fit(X_train, y_train)\n",
        "\n",
        "# Make predictions\n",
        "y_pred = voting_classifier.predict(X_test)\n",
        "\n",
        "# Evaluate the performance\n",
        "training_accuracy = accuracy_score(y_train, voting_classifier.predict(X_train))\n",
        "print(f'Ensemble Training Accuracy: {training_accuracy}')\n",
        "testing_accuracy = accuracy_score(y_test, y_pred)\n",
        "print(f'Ensemble Testing Accuracy: {testing_accuracy}')\n"
      ],
      "metadata": {
        "colab": {
          "base_uri": "https://localhost:8080/"
        },
        "id": "v1zXEZGRdrhE",
        "outputId": "8676856f-d23d-4d41-f4c0-cdb25722ae84"
      },
      "execution_count": null,
      "outputs": [
        {
          "output_type": "stream",
          "name": "stderr",
          "text": [
            "WARNING:tensorflow:AutoGraph could not transform <function trace_model_call.<locals>._wrapped_model at 0x7a90ad185360> and will run it as-is.\n",
            "Cause: Unable to locate the source code of <function trace_model_call.<locals>._wrapped_model at 0x7a90ad185360>. Note that functions defined in certain environments, like the interactive Python shell, do not expose their source code. If that is the case, you should define them in a .py source file. If you are certain the code is graph-compatible, wrap the call using @tf.autograph.experimental.do_not_convert. Original error: could not get source code\n",
            "To silence this warning, decorate the function with @tf.autograph.experimental.do_not_convert\n"
          ]
        },
        {
          "output_type": "stream",
          "name": "stdout",
          "text": [
            "WARNING: AutoGraph could not transform <function trace_model_call.<locals>._wrapped_model at 0x7a90ad185360> and will run it as-is.\n",
            "Cause: Unable to locate the source code of <function trace_model_call.<locals>._wrapped_model at 0x7a90ad185360>. Note that functions defined in certain environments, like the interactive Python shell, do not expose their source code. If that is the case, you should define them in a .py source file. If you are certain the code is graph-compatible, wrap the call using @tf.autograph.experimental.do_not_convert. Original error: could not get source code\n",
            "To silence this warning, decorate the function with @tf.autograph.experimental.do_not_convert\n"
          ]
        },
        {
          "output_type": "stream",
          "name": "stderr",
          "text": [
            "/usr/local/lib/python3.10/dist-packages/scikeras/wrappers.py:915: UserWarning: ``build_fn`` will be renamed to ``model`` in a future release, at which point use of ``build_fn`` will raise an Error instead.\n",
            "  X, y = self._initialize(X, y)\n"
          ]
        },
        {
          "output_type": "stream",
          "name": "stdout",
          "text": [
            "Ensemble Training Accuracy: 0.9882747068676717\n",
            "Ensemble Testing Accuracy: 0.8666666666666667\n"
          ]
        }
      ]
    }
  ]
}